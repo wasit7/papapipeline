{
 "cells": [
  {
   "cell_type": "code",
   "execution_count": 2,
   "id": "53441778-8cba-4efa-8398-79f1d6a69678",
   "metadata": {},
   "outputs": [
    {
     "data": {
      "text/html": [
       "<pre style=\"white-space:pre;overflow-x:auto;line-height:normal;font-family:Menlo,'DejaVu Sans Mono',consolas,'Courier New',monospace\">06:08:25.034 | <span style=\"color: #008080; text-decoration-color: #008080\">INFO</span>    | prefect.engine - Created flow run<span style=\"color: #800080; text-decoration-color: #800080\"> 'cerulean-otter'</span> for flow<span style=\"color: #800080; text-decoration-color: #800080; font-weight: bold\"> 'hello_flow: 1.quick_start'</span>\n",
       "</pre>\n"
      ],
      "text/plain": [
       "06:08:25.034 | \u001b[36mINFO\u001b[0m    | prefect.engine - Created flow run\u001b[35m 'cerulean-otter'\u001b[0m for flow\u001b[1;35m 'hello_flow: 1.quick_start'\u001b[0m\n"
      ]
     },
     "metadata": {},
     "output_type": "display_data"
    },
    {
     "data": {
      "text/html": [
       "<pre style=\"white-space:pre;overflow-x:auto;line-height:normal;font-family:Menlo,'DejaVu Sans Mono',consolas,'Courier New',monospace\">06:08:25.038 | <span style=\"color: #008080; text-decoration-color: #008080\">INFO</span>    | prefect.engine - View at <span style=\"color: #0000ff; text-decoration-color: #0000ff\">http://prefect-server:4200/runs/flow-run/c504b40c-e78e-4721-949c-718f37966ff4</span>\n",
       "</pre>\n"
      ],
      "text/plain": [
       "06:08:25.038 | \u001b[36mINFO\u001b[0m    | prefect.engine - View at \u001b[94mhttp://prefect-server:4200/runs/flow-run/c504b40c-e78e-4721-949c-718f37966ff4\u001b[0m\n"
      ]
     },
     "metadata": {},
     "output_type": "display_data"
    },
    {
     "data": {
      "text/html": [
       "<pre style=\"white-space:pre;overflow-x:auto;line-height:normal;font-family:Menlo,'DejaVu Sans Mono',consolas,'Courier New',monospace\">06:08:26.039 | <span style=\"color: #008080; text-decoration-color: #008080\">INFO</span>    | Task run 'say_hello-0' - Created task run 'say_hello-0' for task 'say_hello'\n",
       "</pre>\n"
      ],
      "text/plain": [
       "06:08:26.039 | \u001b[36mINFO\u001b[0m    | Task run 'say_hello-0' - Created task run 'say_hello-0' for task 'say_hello'\n"
      ]
     },
     "metadata": {},
     "output_type": "display_data"
    },
    {
     "data": {
      "text/html": [
       "<pre style=\"white-space:pre;overflow-x:auto;line-height:normal;font-family:Menlo,'DejaVu Sans Mono',consolas,'Courier New',monospace\">06:08:26.537 | <span style=\"color: #008080; text-decoration-color: #008080\">INFO</span>    | Task run 'say_hello-0' - Finished in state <span style=\"color: #008000; text-decoration-color: #008000\">Completed</span>()\n",
       "</pre>\n"
      ],
      "text/plain": [
       "06:08:26.537 | \u001b[36mINFO\u001b[0m    | Task run 'say_hello-0' - Finished in state \u001b[32mCompleted\u001b[0m()\n"
      ]
     },
     "metadata": {},
     "output_type": "display_data"
    },
    {
     "data": {
      "text/html": [
       "<pre style=\"white-space:pre;overflow-x:auto;line-height:normal;font-family:Menlo,'DejaVu Sans Mono',consolas,'Courier New',monospace\">06:08:26.882 | <span style=\"color: #008080; text-decoration-color: #008080\">INFO</span>    | Task run 'get_name-0' - Created task run 'get_name-0' for task 'get_name'\n",
       "</pre>\n"
      ],
      "text/plain": [
       "06:08:26.882 | \u001b[36mINFO\u001b[0m    | Task run 'get_name-0' - Created task run 'get_name-0' for task 'get_name'\n"
      ]
     },
     "metadata": {},
     "output_type": "display_data"
    },
    {
     "data": {
      "text/html": [
       "<pre style=\"white-space:pre;overflow-x:auto;line-height:normal;font-family:Menlo,'DejaVu Sans Mono',consolas,'Courier New',monospace\">06:08:27.238 | <span style=\"color: #008080; text-decoration-color: #008080\">INFO</span>    | Task run 'get_name-0' - Finished in state <span style=\"color: #008000; text-decoration-color: #008000\">Completed</span>()\n",
       "</pre>\n"
      ],
      "text/plain": [
       "06:08:27.238 | \u001b[36mINFO\u001b[0m    | Task run 'get_name-0' - Finished in state \u001b[32mCompleted\u001b[0m()\n"
      ]
     },
     "metadata": {},
     "output_type": "display_data"
    },
    {
     "name": "stdout",
     "output_type": "stream",
     "text": [
      ">>> result: Hello, DSI321: Big Data Infrastructure!\n"
     ]
    },
    {
     "data": {
      "text/html": [
       "<pre style=\"white-space:pre;overflow-x:auto;line-height:normal;font-family:Menlo,'DejaVu Sans Mono',consolas,'Courier New',monospace\">06:08:27.523 | <span style=\"color: #008080; text-decoration-color: #008080\">INFO</span>    | Flow run<span style=\"color: #800080; text-decoration-color: #800080\"> 'cerulean-otter'</span> - Finished in state <span style=\"color: #008000; text-decoration-color: #008000\">Completed</span>()\n",
       "</pre>\n"
      ],
      "text/plain": [
       "06:08:27.523 | \u001b[36mINFO\u001b[0m    | Flow run\u001b[35m 'cerulean-otter'\u001b[0m - Finished in state \u001b[32mCompleted\u001b[0m()\n"
      ]
     },
     "metadata": {},
     "output_type": "display_data"
    }
   ],
   "source": [
    "from prefect import flow, task\n",
    "\n",
    "@task\n",
    "def say_hello():\n",
    "    return \"Hello, \"\n",
    "\n",
    "@task\n",
    "def get_name():\n",
    "    return \"DSI321: Big Data Infrastructure\"\n",
    "    \n",
    "@flow(name=\"hello_flow: 1.quick_start\")\n",
    "def hello_flow():\n",
    "    result = say_hello() + get_name() + \"!\"\n",
    "    print(f\">>> result: {result}\")\n",
    "    return result\n",
    "\n",
    "if __name__ == '__main__':\n",
    "    hello_flow()"
   ]
  },
  {
   "cell_type": "code",
   "execution_count": null,
   "id": "7875399f-0896-48e2-9756-437fadf36207",
   "metadata": {},
   "outputs": [],
   "source": []
  }
 ],
 "metadata": {
  "kernelspec": {
   "display_name": "Python 3 (ipykernel)",
   "language": "python",
   "name": "python3"
  },
  "language_info": {
   "codemirror_mode": {
    "name": "ipython",
    "version": 3
   },
   "file_extension": ".py",
   "mimetype": "text/x-python",
   "name": "python",
   "nbconvert_exporter": "python",
   "pygments_lexer": "ipython3",
   "version": "3.11.9"
  }
 },
 "nbformat": 4,
 "nbformat_minor": 5
}
