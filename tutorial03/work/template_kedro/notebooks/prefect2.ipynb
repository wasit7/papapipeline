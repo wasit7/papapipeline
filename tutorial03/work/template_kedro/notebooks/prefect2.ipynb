{
 "cells": [
  {
   "cell_type": "code",
   "execution_count": 8,
   "id": "37b7a4a5-1435-40ff-8e1f-2b4562843c92",
   "metadata": {},
   "outputs": [
    {
     "data": {
      "text/html": [
       "<pre style=\"white-space:pre;overflow-x:auto;line-height:normal;font-family:Menlo,'DejaVu Sans Mono',consolas,'Courier New',monospace\">18:34:48.558 | <span style=\"color: #008080; text-decoration-color: #008080\">INFO</span>    | prefect.engine - Created flow run<span style=\"color: #800080; text-decoration-color: #800080\"> 'cooperative-gibbon'</span> for flow<span style=\"color: #800080; text-decoration-color: #800080; font-weight: bold\"> 'my_flow'</span>\n",
       "</pre>\n"
      ],
      "text/plain": [
       "18:34:48.558 | \u001b[36mINFO\u001b[0m    | prefect.engine - Created flow run\u001b[35m 'cooperative-gibbon'\u001b[0m for flow\u001b[1;35m 'my_flow'\u001b[0m\n"
      ]
     },
     "metadata": {},
     "output_type": "display_data"
    },
    {
     "data": {
      "text/html": [
       "<pre style=\"white-space:pre;overflow-x:auto;line-height:normal;font-family:Menlo,'DejaVu Sans Mono',consolas,'Courier New',monospace\">18:34:48.564 | <span style=\"color: #008080; text-decoration-color: #008080\">INFO</span>    | prefect.engine - View at <span style=\"color: #0000ff; text-decoration-color: #0000ff\">http://prefect-server:4200/runs/flow-run/a79be745-a435-4675-80ca-26c6eb59acba</span>\n",
       "</pre>\n"
      ],
      "text/plain": [
       "18:34:48.564 | \u001b[36mINFO\u001b[0m    | prefect.engine - View at \u001b[94mhttp://prefect-server:4200/runs/flow-run/a79be745-a435-4675-80ca-26c6eb59acba\u001b[0m\n"
      ]
     },
     "metadata": {},
     "output_type": "display_data"
    },
    {
     "data": {
      "text/html": [
       "<pre style=\"white-space:pre;overflow-x:auto;line-height:normal;font-family:Menlo,'DejaVu Sans Mono',consolas,'Courier New',monospace\">18:34:48.856 | <span style=\"color: #008080; text-decoration-color: #008080\">INFO</span>    | Flow run<span style=\"color: #800080; text-decoration-color: #800080\"> 'cooperative-gibbon'</span> - my_flow():project_path/home/jovyan/work/mykedroproject\n",
       "</pre>\n"
      ],
      "text/plain": [
       "18:34:48.856 | \u001b[36mINFO\u001b[0m    | Flow run\u001b[35m 'cooperative-gibbon'\u001b[0m - my_flow():project_path/home/jovyan/work/mykedroproject\n"
      ]
     },
     "metadata": {},
     "output_type": "display_data"
    },
    {
     "data": {
      "text/html": [
       "<pre style=\"white-space:pre;overflow-x:auto;line-height:normal;font-family:Menlo,'DejaVu Sans Mono',consolas,'Courier New',monospace\">18:34:48.939 | <span style=\"color: #008080; text-decoration-color: #008080\">INFO</span>    | Flow run<span style=\"color: #800080; text-decoration-color: #800080\"> 'cooperative-gibbon'</span> - Project name: MyKedroProject\n",
       "</pre>\n"
      ],
      "text/plain": [
       "18:34:48.939 | \u001b[36mINFO\u001b[0m    | Flow run\u001b[35m 'cooperative-gibbon'\u001b[0m - Project name: MyKedroProject\n"
      ]
     },
     "metadata": {},
     "output_type": "display_data"
    },
    {
     "data": {
      "text/html": [
       "<pre style=\"white-space:pre;overflow-x:auto;line-height:normal;font-family:Menlo,'DejaVu Sans Mono',consolas,'Courier New',monospace\">18:34:48.941 | <span style=\"color: #008080; text-decoration-color: #008080\">INFO</span>    | Flow run<span style=\"color: #800080; text-decoration-color: #800080\"> 'cooperative-gibbon'</span> - Initializing Kedro...\n",
       "</pre>\n"
      ],
      "text/plain": [
       "18:34:48.941 | \u001b[36mINFO\u001b[0m    | Flow run\u001b[35m 'cooperative-gibbon'\u001b[0m - Initializing Kedro...\n"
      ]
     },
     "metadata": {},
     "output_type": "display_data"
    },
    {
     "data": {
      "text/html": [
       "<pre style=\"white-space:pre;overflow-x:auto;line-height:normal;font-family:Menlo,'DejaVu Sans Mono',consolas,'Courier New',monospace\">18:34:49.203 | <span style=\"color: #008080; text-decoration-color: #008080\">INFO</span>    | Task run 'kedro_init-0' - Created task run 'kedro_init-0' for task 'kedro_init'\n",
       "</pre>\n"
      ],
      "text/plain": [
       "18:34:49.203 | \u001b[36mINFO\u001b[0m    | Task run 'kedro_init-0' - Created task run 'kedro_init-0' for task 'kedro_init'\n"
      ]
     },
     "metadata": {},
     "output_type": "display_data"
    },
    {
     "data": {
      "text/html": [
       "<pre style=\"white-space:pre;overflow-x:auto;line-height:normal;font-family:Menlo,'DejaVu Sans Mono',consolas,'Courier New',monospace\">18:34:49.550 | <span style=\"color: #008080; text-decoration-color: #008080\">INFO</span>    | Task run 'kedro_init-0' - Bootstrapping project\n",
       "</pre>\n"
      ],
      "text/plain": [
       "18:34:49.550 | \u001b[36mINFO\u001b[0m    | Task run 'kedro_init-0' - Bootstrapping project\n"
      ]
     },
     "metadata": {},
     "output_type": "display_data"
    },
    {
     "data": {
      "text/html": [
       "<pre style=\"white-space:pre;overflow-x:auto;line-height:normal;font-family:Menlo,'DejaVu Sans Mono',consolas,'Courier New',monospace\">18:34:49.679 | <span style=\"color: #008080; text-decoration-color: #008080\">INFO</span>    | Task run 'kedro_init-0' - Session created with ID 2025-02-10T18.34.49.665Z\n",
       "</pre>\n"
      ],
      "text/plain": [
       "18:34:49.679 | \u001b[36mINFO\u001b[0m    | Task run 'kedro_init-0' - Session created with ID 2025-02-10T18.34.49.665Z\n"
      ]
     },
     "metadata": {},
     "output_type": "display_data"
    },
    {
     "data": {
      "text/html": [
       "<pre style=\"white-space:pre;overflow-x:auto;line-height:normal;font-family:Menlo,'DejaVu Sans Mono',consolas,'Courier New',monospace\">18:34:49.680 | <span style=\"color: #008080; text-decoration-color: #008080\">INFO</span>    | Task run 'kedro_init-0' - Loading context...\n",
       "</pre>\n"
      ],
      "text/plain": [
       "18:34:49.680 | \u001b[36mINFO\u001b[0m    | Task run 'kedro_init-0' - Loading context...\n"
      ]
     },
     "metadata": {},
     "output_type": "display_data"
    },
    {
     "data": {
      "text/html": [
       "<pre style=\"white-space:pre;overflow-x:auto;line-height:normal;font-family:Menlo,'DejaVu Sans Mono',consolas,'Courier New',monospace\">18:34:49.720 | <span style=\"color: #008080; text-decoration-color: #008080\">INFO</span>    | kedro_telemetry.plugin - Kedro is sending anonymous usage data with the sole purpose of improving the product. No personal data or IP addresses are stored on our side. If you want to opt out, set the `KEDRO_DISABLE_TELEMETRY` or `DO_NOT_TRACK` environment variables, or create a `.telemetry` file in the current working directory with the contents `consent: false`. Read more at <span style=\"color: #0000ff; text-decoration-color: #0000ff\">https://docs.kedro.org/en/stable/configuration/telemetry.html</span>\n",
       "</pre>\n"
      ],
      "text/plain": [
       "18:34:49.720 | \u001b[36mINFO\u001b[0m    | kedro_telemetry.plugin - Kedro is sending anonymous usage data with the sole purpose of improving the product. No personal data or IP addresses are stored on our side. If you want to opt out, set the `KEDRO_DISABLE_TELEMETRY` or `DO_NOT_TRACK` environment variables, or create a `.telemetry` file in the current working directory with the contents `consent: false`. Read more at \u001b[94mhttps://docs.kedro.org/en/stable/configuration/telemetry.html\u001b[0m\n"
      ]
     },
     "metadata": {},
     "output_type": "display_data"
    },
    {
     "data": {
      "text/html": [
       "<pre style=\"white-space:pre;overflow-x:auto;line-height:normal;font-family:Menlo,'DejaVu Sans Mono',consolas,'Courier New',monospace\">18:34:52.441 | <span style=\"color: #008080; text-decoration-color: #008080\">INFO</span>    | Task run 'kedro_init-0' - Registering datasets...\n",
       "</pre>\n"
      ],
      "text/plain": [
       "18:34:52.441 | \u001b[36mINFO\u001b[0m    | Task run 'kedro_init-0' - Registering datasets...\n"
      ]
     },
     "metadata": {},
     "output_type": "display_data"
    },
    {
     "data": {
      "text/html": [
       "<pre style=\"white-space:pre;overflow-x:auto;line-height:normal;font-family:Menlo,'DejaVu Sans Mono',consolas,'Courier New',monospace\">18:34:52.655 | <span style=\"color: #008080; text-decoration-color: #008080\">INFO</span>    | Task run 'kedro_init-0' - Finished in state <span style=\"color: #008000; text-decoration-color: #008000\">Completed</span>()\n",
       "</pre>\n"
      ],
      "text/plain": [
       "18:34:52.655 | \u001b[36mINFO\u001b[0m    | Task run 'kedro_init-0' - Finished in state \u001b[32mCompleted\u001b[0m()\n"
      ]
     },
     "metadata": {},
     "output_type": "display_data"
    },
    {
     "data": {
      "text/html": [
       "<pre style=\"white-space:pre;overflow-x:auto;line-height:normal;font-family:Menlo,'DejaVu Sans Mono',consolas,'Courier New',monospace\">18:34:52.663 | <span style=\"color: #008080; text-decoration-color: #008080\">INFO</span>    | Flow run<span style=\"color: #800080; text-decoration-color: #800080\"> 'cooperative-gibbon'</span> - Building execution layers...\n",
       "</pre>\n"
      ],
      "text/plain": [
       "18:34:52.663 | \u001b[36mINFO\u001b[0m    | Flow run\u001b[35m 'cooperative-gibbon'\u001b[0m - Building execution layers...\n"
      ]
     },
     "metadata": {},
     "output_type": "display_data"
    },
    {
     "data": {
      "text/html": [
       "<pre style=\"white-space:pre;overflow-x:auto;line-height:normal;font-family:Menlo,'DejaVu Sans Mono',consolas,'Courier New',monospace\">18:34:52.674 | <span style=\"color: #008080; text-decoration-color: #008080\">INFO</span>    | Flow run<span style=\"color: #800080; text-decoration-color: #800080\"> 'cooperative-gibbon'</span> - Running layer...\n",
       "</pre>\n"
      ],
      "text/plain": [
       "18:34:52.674 | \u001b[36mINFO\u001b[0m    | Flow run\u001b[35m 'cooperative-gibbon'\u001b[0m - Running layer...\n"
      ]
     },
     "metadata": {},
     "output_type": "display_data"
    },
    {
     "data": {
      "text/html": [
       "<pre style=\"white-space:pre;overflow-x:auto;line-height:normal;font-family:Menlo,'DejaVu Sans Mono',consolas,'Courier New',monospace\">18:34:52.681 | <span style=\"color: #008080; text-decoration-color: #008080\">INFO</span>    | Flow run<span style=\"color: #800080; text-decoration-color: #800080\"> 'cooperative-gibbon'</span> - Running node...\n",
       "</pre>\n"
      ],
      "text/plain": [
       "18:34:52.681 | \u001b[36mINFO\u001b[0m    | Flow run\u001b[35m 'cooperative-gibbon'\u001b[0m - Running node...\n"
      ]
     },
     "metadata": {},
     "output_type": "display_data"
    },
    {
     "data": {
      "text/html": [
       "<pre style=\"white-space:pre;overflow-x:auto;line-height:normal;font-family:Menlo,'DejaVu Sans Mono',consolas,'Courier New',monospace\">18:34:52.911 | <span style=\"color: #008080; text-decoration-color: #008080\">INFO</span>    | Task run 'add_numbers_node-0' - Created task run 'add_numbers_node-0' for task 'add_numbers_node'\n",
       "</pre>\n"
      ],
      "text/plain": [
       "18:34:52.911 | \u001b[36mINFO\u001b[0m    | Task run 'add_numbers_node-0' - Created task run 'add_numbers_node-0' for task 'add_numbers_node'\n"
      ]
     },
     "metadata": {},
     "output_type": "display_data"
    },
    {
     "data": {
      "text/html": [
       "<pre style=\"white-space:pre;overflow-x:auto;line-height:normal;font-family:Menlo,'DejaVu Sans Mono',consolas,'Courier New',monospace\">18:34:53.211 | <span style=\"color: #d7d700; text-decoration-color: #d7d700\">WARNING</span> | py.warnings - /usr/local/lib/python3.11/site-packages/kedro/runner/runner.py:551: KedroDeprecationWarning: `run_node()` has been deprecated and will be removed in Kedro 0.20.0\n",
       "  warnings.warn(\n",
       "\n",
       "</pre>\n"
      ],
      "text/plain": [
       "18:34:53.211 | \u001b[38;5;184mWARNING\u001b[0m | py.warnings - /usr/local/lib/python3.11/site-packages/kedro/runner/runner.py:551: KedroDeprecationWarning: `run_node()` has been deprecated and will be removed in Kedro 0.20.0\n",
       "  warnings.warn(\n",
       "\n"
      ]
     },
     "metadata": {},
     "output_type": "display_data"
    },
    {
     "data": {
      "text/html": [
       "<pre style=\"white-space:pre;overflow-x:auto;line-height:normal;font-family:Menlo,'DejaVu Sans Mono',consolas,'Courier New',monospace\">18:34:53.213 | <span style=\"color: #008080; text-decoration-color: #008080\">INFO</span>    | kedro.io.data_catalog - Loading data from params:number_a (MemoryDataset)...\n",
       "</pre>\n"
      ],
      "text/plain": [
       "18:34:53.213 | \u001b[36mINFO\u001b[0m    | kedro.io.data_catalog - Loading data from params:number_a (MemoryDataset)...\n"
      ]
     },
     "metadata": {},
     "output_type": "display_data"
    },
    {
     "data": {
      "text/html": [
       "<pre style=\"white-space:pre;overflow-x:auto;line-height:normal;font-family:Menlo,'DejaVu Sans Mono',consolas,'Courier New',monospace\">18:34:53.213 | <span style=\"color: #008080; text-decoration-color: #008080\">INFO</span>    | kedro.io.data_catalog - Loading data from params:number_b (MemoryDataset)...\n",
       "</pre>\n"
      ],
      "text/plain": [
       "18:34:53.213 | \u001b[36mINFO\u001b[0m    | kedro.io.data_catalog - Loading data from params:number_b (MemoryDataset)...\n"
      ]
     },
     "metadata": {},
     "output_type": "display_data"
    },
    {
     "data": {
      "text/html": [
       "<pre style=\"white-space:pre;overflow-x:auto;line-height:normal;font-family:Menlo,'DejaVu Sans Mono',consolas,'Courier New',monospace\">18:34:53.217 | <span style=\"color: #008080; text-decoration-color: #008080\">INFO</span>    | kedro.pipeline.node - Running node: add_numbers_node: add_numbers([params:number_a;params:number_b]) -&gt; [sum]\n",
       "</pre>\n"
      ],
      "text/plain": [
       "18:34:53.217 | \u001b[36mINFO\u001b[0m    | kedro.pipeline.node - Running node: add_numbers_node: add_numbers([params:number_a;params:number_b]) -> [sum]\n"
      ]
     },
     "metadata": {},
     "output_type": "display_data"
    },
    {
     "data": {
      "text/html": [
       "<pre style=\"white-space:pre;overflow-x:auto;line-height:normal;font-family:Menlo,'DejaVu Sans Mono',consolas,'Courier New',monospace\">18:34:53.219 | <span style=\"color: #008080; text-decoration-color: #008080\">INFO</span>    | kedro.io.data_catalog - Saving data to sum (MemoryDataset)...\n",
       "</pre>\n"
      ],
      "text/plain": [
       "18:34:53.219 | \u001b[36mINFO\u001b[0m    | kedro.io.data_catalog - Saving data to sum (MemoryDataset)...\n"
      ]
     },
     "metadata": {},
     "output_type": "display_data"
    },
    {
     "data": {
      "text/html": [
       "<pre style=\"white-space:pre;overflow-x:auto;line-height:normal;font-family:Menlo,'DejaVu Sans Mono',consolas,'Courier New',monospace\">18:34:53.332 | <span style=\"color: #008080; text-decoration-color: #008080\">INFO</span>    | Task run 'add_numbers_node-0' - Finished in state <span style=\"color: #008000; text-decoration-color: #008000\">Completed</span>()\n",
       "</pre>\n"
      ],
      "text/plain": [
       "18:34:53.332 | \u001b[36mINFO\u001b[0m    | Task run 'add_numbers_node-0' - Finished in state \u001b[32mCompleted\u001b[0m()\n"
      ]
     },
     "metadata": {},
     "output_type": "display_data"
    },
    {
     "data": {
      "text/html": [
       "<pre style=\"white-space:pre;overflow-x:auto;line-height:normal;font-family:Menlo,'DejaVu Sans Mono',consolas,'Courier New',monospace\">18:34:53.334 | <span style=\"color: #008080; text-decoration-color: #008080\">INFO</span>    | Flow run<span style=\"color: #800080; text-decoration-color: #800080\"> 'cooperative-gibbon'</span> - Running layer...\n",
       "</pre>\n"
      ],
      "text/plain": [
       "18:34:53.334 | \u001b[36mINFO\u001b[0m    | Flow run\u001b[35m 'cooperative-gibbon'\u001b[0m - Running layer...\n"
      ]
     },
     "metadata": {},
     "output_type": "display_data"
    },
    {
     "data": {
      "text/html": [
       "<pre style=\"white-space:pre;overflow-x:auto;line-height:normal;font-family:Menlo,'DejaVu Sans Mono',consolas,'Courier New',monospace\">18:34:53.336 | <span style=\"color: #008080; text-decoration-color: #008080\">INFO</span>    | Flow run<span style=\"color: #800080; text-decoration-color: #800080\"> 'cooperative-gibbon'</span> - Running node...\n",
       "</pre>\n"
      ],
      "text/plain": [
       "18:34:53.336 | \u001b[36mINFO\u001b[0m    | Flow run\u001b[35m 'cooperative-gibbon'\u001b[0m - Running node...\n"
      ]
     },
     "metadata": {},
     "output_type": "display_data"
    },
    {
     "data": {
      "text/html": [
       "<pre style=\"white-space:pre;overflow-x:auto;line-height:normal;font-family:Menlo,'DejaVu Sans Mono',consolas,'Courier New',monospace\">18:34:53.464 | <span style=\"color: #008080; text-decoration-color: #008080\">INFO</span>    | Task run 'print_result_node-1' - Created task run 'print_result_node-1' for task 'print_result_node'\n",
       "</pre>\n"
      ],
      "text/plain": [
       "18:34:53.464 | \u001b[36mINFO\u001b[0m    | Task run 'print_result_node-1' - Created task run 'print_result_node-1' for task 'print_result_node'\n"
      ]
     },
     "metadata": {},
     "output_type": "display_data"
    },
    {
     "data": {
      "text/html": [
       "<pre style=\"white-space:pre;overflow-x:auto;line-height:normal;font-family:Menlo,'DejaVu Sans Mono',consolas,'Courier New',monospace\">18:34:54.101 | <span style=\"color: #008080; text-decoration-color: #008080\">INFO</span>    | Task run 'print_result_node-1' - Finished in state Cached(type=COMPLETED)\n",
       "</pre>\n"
      ],
      "text/plain": [
       "18:34:54.101 | \u001b[36mINFO\u001b[0m    | Task run 'print_result_node-1' - Finished in state Cached(type=COMPLETED)\n"
      ]
     },
     "metadata": {},
     "output_type": "display_data"
    },
    {
     "data": {
      "text/html": [
       "<pre style=\"white-space:pre;overflow-x:auto;line-height:normal;font-family:Menlo,'DejaVu Sans Mono',consolas,'Courier New',monospace\">18:34:54.424 | <span style=\"color: #008080; text-decoration-color: #008080\">INFO</span>    | Flow run<span style=\"color: #800080; text-decoration-color: #800080\"> 'cooperative-gibbon'</span> - Finished in state <span style=\"color: #008000; text-decoration-color: #008000\">Completed</span>()\n",
       "</pre>\n"
      ],
      "text/plain": [
       "18:34:54.424 | \u001b[36mINFO\u001b[0m    | Flow run\u001b[35m 'cooperative-gibbon'\u001b[0m - Finished in state \u001b[32mCompleted\u001b[0m()\n"
      ]
     },
     "metadata": {},
     "output_type": "display_data"
    }
   ],
   "source": [
    "# kedroproject/notebooks/prefect2.ipynb\n",
    "import click\n",
    "from pathlib import Path\n",
    "from typing import Dict, List, Union, Callable\n",
    "\n",
    "from kedro.framework.hooks.manager import _create_hook_manager\n",
    "from kedro.framework.project import pipelines\n",
    "from kedro.framework.session import KedroSession\n",
    "from kedro.framework.startup import bootstrap_project\n",
    "from kedro.io import DataCatalog, MemoryDataset\n",
    "from kedro.pipeline.node import Node\n",
    "from kedro.runner import run_node\n",
    "\n",
    "from prefect import flow, task, get_run_logger\n",
    "import logging\n",
    "\n",
    "@flow(name=\"my_flow\", log_prints=True)\n",
    "def my_flow(pipeline_name: str, env: str):\n",
    "    logger = get_run_logger()\n",
    "    project_path = Path.cwd() if (Path.cwd() / \"pyproject.toml\").exists() else Path.cwd().parent\n",
    "    print(f'my_flow():project_path{project_path}')\n",
    "\n",
    "    metadata = bootstrap_project(project_path)\n",
    "    logger.info(\"Project name: %s\", metadata.project_name)\n",
    "\n",
    "    logger.info(\"Initializing Kedro...\")\n",
    "    execution_config = kedro_init(\n",
    "        pipeline_name=pipeline_name, project_path=project_path, env=env\n",
    "    )\n",
    "\n",
    "    logger.info(\"Building execution layers...\")\n",
    "    execution_layers = init_kedro_tasks_by_execution_layer(\n",
    "        pipeline_name, execution_config\n",
    "    )\n",
    "\n",
    "    for layer in execution_layers:\n",
    "        logger.info(\"Running layer...\")\n",
    "        for node_task in layer:\n",
    "            logger.info(\"Running node...\")\n",
    "            node_task()\n",
    "\n",
    "\n",
    "@task()\n",
    "def kedro_init(\n",
    "    pipeline_name: str,\n",
    "    project_path: Path,\n",
    "    env: str,\n",
    "):\n",
    "    \"\"\"\n",
    "    Initializes a Kedro session and returns the DataCatalog and\n",
    "    KedroSession\n",
    "    \"\"\"\n",
    "    # bootstrap project within task / flow scope\n",
    "\n",
    "    logger = get_run_logger()\n",
    "    # logger = logging.getLogger(__name__)\n",
    "    logger.info(\"Bootstrapping project\")\n",
    "    bootstrap_project(project_path)\n",
    "\n",
    "    session = KedroSession.create(\n",
    "        project_path=project_path,\n",
    "        env=env,\n",
    "    )\n",
    "    # Note that for logging inside a Prefect task logger is used.\n",
    "    logger.info(\"Session created with ID %s\", session.session_id)\n",
    "    pipeline = pipelines.get(pipeline_name)\n",
    "    logger.info(\"Loading context...\")\n",
    "    context = session.load_context()\n",
    "    catalog = context.catalog\n",
    "    logger.info(\"Registering datasets...\")\n",
    "    unregistered_ds = pipeline.datasets() - set(catalog.list())\n",
    "    for ds_name in unregistered_ds:\n",
    "        catalog.add(ds_name, MemoryDataset())\n",
    "    return {\"catalog\": catalog, \"sess_id\": session.session_id}\n",
    "\n",
    "\n",
    "def init_kedro_tasks_by_execution_layer(\n",
    "    pipeline_name: str,\n",
    "    execution_config: Union[None, Dict[str, Union[DataCatalog, str]]] = None,\n",
    ") -> List[List[Callable]]:\n",
    "    \"\"\"\n",
    "    Inits the Kedro tasks ordered topologically in groups, which implies that an earlier group\n",
    "    is the dependency of later one.\n",
    "\n",
    "    Args:\n",
    "        pipeline_name (str): The pipeline name to execute\n",
    "        execution_config (Union[None, Dict[str, Union[DataCatalog, str]]], optional):\n",
    "        The required execution config for each node. Defaults to None.\n",
    "\n",
    "    Returns:\n",
    "        List[List[Callable]]: A list of topologically ordered task groups\n",
    "    \"\"\"\n",
    "\n",
    "    pipeline = pipelines.get(pipeline_name)\n",
    "\n",
    "    execution_layers = []\n",
    "\n",
    "    # Return a list of the pipeline nodes in topologically ordered groups,\n",
    "    #  i.e. if node A needs to be run before node B, it will appear in an\n",
    "    #  earlier group.\n",
    "    for layer in pipeline.grouped_nodes:\n",
    "        execution_layer = []\n",
    "        for node in layer:\n",
    "            # Use a function for task instantiation which avoids duplication of\n",
    "            # tasks\n",
    "            task = instantiate_task(node, execution_config)\n",
    "            execution_layer.append(task)\n",
    "        execution_layers.append(execution_layer)\n",
    "\n",
    "    return execution_layers\n",
    "\n",
    "\n",
    "def kedro_task(\n",
    "    node: Node, task_dict: Union[None, Dict[str, Union[DataCatalog, str]]] = None\n",
    "):\n",
    "    run_node(\n",
    "        node,\n",
    "        task_dict[\"catalog\"],\n",
    "        _create_hook_manager(),\n",
    "        task_dict[\"sess_id\"],\n",
    "    )\n",
    "\n",
    "\n",
    "def instantiate_task(\n",
    "    node: Node,\n",
    "    execution_config: Union[None, Dict[str, Union[DataCatalog, str]]] = None,\n",
    ") -> Callable:\n",
    "    \"\"\"\n",
    "    Function that wraps a Node inside a task for future execution\n",
    "\n",
    "    Args:\n",
    "        node: Kedro node for which a Prefect task is being created.\n",
    "        execution_config: The configurations required for the node to execute\n",
    "        that includes catalogs and session id\n",
    "\n",
    "    Returns: Prefect task for the passed node\n",
    "\n",
    "    \"\"\"\n",
    "    return task(lambda: kedro_task(node, execution_config)).with_options(name=node.name)\n",
    "\n",
    "\n",
    "# my_flow(pipeline_name='pipeline_name',env='base')\n",
    "my_flow(pipeline_name=\"__default__\", env=\"base\")\n"
   ]
  },
  {
   "cell_type": "code",
   "execution_count": null,
   "id": "6b3e910c-b95f-46d7-b145-e42c904664d6",
   "metadata": {},
   "outputs": [],
   "source": [
    "\n",
    "from prefect.deployments import Deployment\n",
    "\n",
    "@click.command()\n",
    "@click.option(\"-p\", \"--pipeline\", \"pipeline_name\", default=\"__default__\")\n",
    "@click.option(\"--env\", \"-e\", type=str, default=\"base\")\n",
    "@click.option(\"--deployment_name\", \"deployment_name\", default=\"example\")\n",
    "@click.option(\"--work_pool_name\", \"work_pool_name\", default=\"default\")\n",
    "@click.option(\"--work_queue_name\", \"work_queue_name\", default=\"default\")\n",
    "@click.option(\"--version\", \"version\", default=\"1.0\")\n",
    "def prefect_deploy(\n",
    "    pipeline_name, env, deployment_name, work_pool_name, work_queue_name, version\n",
    "):\n",
    "    \"\"\"Register a Kedro pipeline as a Prefect flow.\"\"\"\n",
    "\n",
    "    # Pipeline name to execute\n",
    "    pipeline_name = pipeline_name or \"__default__\"\n",
    "\n",
    "    # Use standard deployment configuration for local execution. If you require a different\n",
    "    # infrastructure, check the API docs for Deployments at: https://docs.prefect.io/latest/api-ref/prefect/deployments/\n",
    "    deployment = Deployment.build_from_flow(\n",
    "        flow=my_flow,\n",
    "        name=deployment_name,\n",
    "        path=str(Path.cwd()),\n",
    "        version=version,\n",
    "        parameters={\n",
    "            \"pipeline_name\": pipeline_name,\n",
    "            \"env\": env,\n",
    "        },\n",
    "        infra_overrides={\"env\": {\"PREFECT_LOGGING_LEVEL\": \"DEBUG\"}},\n",
    "        work_pool_name=work_pool_name,\n",
    "        work_queue_name=work_queue_name,\n",
    "    )\n",
    "\n",
    "    deployment.apply()\n",
    "\n",
    "if __name__ == \"__main__\":\n",
    "    prefect_deploy()"
   ]
  }
 ],
 "metadata": {
  "kernelspec": {
   "display_name": "Python 3 (ipykernel)",
   "language": "python",
   "name": "python3"
  },
  "language_info": {
   "codemirror_mode": {
    "name": "ipython",
    "version": 3
   },
   "file_extension": ".py",
   "mimetype": "text/x-python",
   "name": "python",
   "nbconvert_exporter": "python",
   "pygments_lexer": "ipython3",
   "version": "3.11.9"
  }
 },
 "nbformat": 4,
 "nbformat_minor": 5
}
