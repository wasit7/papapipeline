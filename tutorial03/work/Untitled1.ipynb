{
 "cells": [
  {
   "cell_type": "code",
   "execution_count": 3,
   "id": "fe88f87f-f125-4a17-a1de-57dc117d94ba",
   "metadata": {},
   "outputs": [
    {
     "name": "stderr",
     "output_type": "stream",
     "text": [
      "/tmp/ipykernel_6273/688090241.py:7: DeprecationWarning: 'prefect.client:get_client' has been moved to 'prefect.client.orchestration:get_client'. Importing from 'prefect.client.orchestration:get_client' instead. This warning will raise an error in a future release.\n",
      "  from prefect.client import get_client\n"
     ]
    },
    {
     "data": {
      "text/html": [
       "<pre style=\"white-space:pre;overflow-x:auto;line-height:normal;font-family:Menlo,'DejaVu Sans Mono',consolas,'Courier New',monospace\">13:20:14.804 | <span style=\"color: #008080; text-decoration-color: #008080\">INFO</span>    | prefect.engine - Created flow run<span style=\"color: #800080; text-decoration-color: #800080\"> 'adaptable-emu'</span> for flow<span style=\"color: #800080; text-decoration-color: #800080; font-weight: bold\"> 'my-flow'</span>\n",
       "</pre>\n"
      ],
      "text/plain": [
       "13:20:14.804 | \u001b[36mINFO\u001b[0m    | prefect.engine - Created flow run\u001b[35m 'adaptable-emu'\u001b[0m for flow\u001b[1;35m 'my-flow'\u001b[0m\n"
      ]
     },
     "metadata": {},
     "output_type": "display_data"
    },
    {
     "data": {
      "text/html": [
       "<pre style=\"white-space:pre;overflow-x:auto;line-height:normal;font-family:Menlo,'DejaVu Sans Mono',consolas,'Courier New',monospace\">13:20:14.806 | <span style=\"color: #008080; text-decoration-color: #008080\">INFO</span>    | prefect.engine - View at <span style=\"color: #0000ff; text-decoration-color: #0000ff\">http://prefect-server:4200/runs/flow-run/11368603-3c95-4cb9-b519-875f90aa3e40</span>\n",
       "</pre>\n"
      ],
      "text/plain": [
       "13:20:14.806 | \u001b[36mINFO\u001b[0m    | prefect.engine - View at \u001b[94mhttp://prefect-server:4200/runs/flow-run/11368603-3c95-4cb9-b519-875f90aa3e40\u001b[0m\n"
      ]
     },
     "metadata": {},
     "output_type": "display_data"
    },
    {
     "data": {
      "text/html": [
       "<pre style=\"white-space:pre;overflow-x:auto;line-height:normal;font-family:Menlo,'DejaVu Sans Mono',consolas,'Courier New',monospace\">13:20:15.122 | <span style=\"color: #008080; text-decoration-color: #008080\">INFO</span>    | Task run 'log_schedule_time-0' - Created task run 'log_schedule_time-0' for task 'log_schedule_time'\n",
       "</pre>\n"
      ],
      "text/plain": [
       "13:20:15.122 | \u001b[36mINFO\u001b[0m    | Task run 'log_schedule_time-0' - Created task run 'log_schedule_time-0' for task 'log_schedule_time'\n"
      ]
     },
     "metadata": {},
     "output_type": "display_data"
    },
    {
     "data": {
      "text/html": [
       "<pre style=\"white-space:pre;overflow-x:auto;line-height:normal;font-family:Menlo,'DejaVu Sans Mono',consolas,'Courier New',monospace\">13:20:15.238 | <span style=\"color: #d70000; text-decoration-color: #d70000\">ERROR</span>   | Task run 'log_schedule_time-0' - Task run failed with exception: AttributeError(\"'TaskRunContext' object has no attribute 'flow_run_id'\") - Retries are exhausted\n",
       "Traceback (most recent call last):\n",
       "  File \"/usr/local/lib/python3.11/site-packages/prefect/task_engine.py\", line 1338, in run_context\n",
       "    yield self\n",
       "  File \"/usr/local/lib/python3.11/site-packages/prefect/task_engine.py\", line 1420, in run_task_async\n",
       "    await engine.call_task_fn(txn)\n",
       "  File \"/usr/local/lib/python3.11/site-packages/prefect/task_engine.py\", line 1366, in call_task_fn\n",
       "    result = await call_with_parameters(self.task.fn, parameters)\n",
       "             ^^^^^^^^^^^^^^^^^^^^^^^^^^^^^^^^^^^^^^^^^^^^^^^^^^^^\n",
       "  File \"/tmp/ipykernel_6273/688090241.py\", line 14, in log_schedule_time\n",
       "    flow_run_id = context.flow_run_id\n",
       "                  ^^^^^^^^^^^^^^^^^^^\n",
       "  File \"/usr/local/lib/python3.11/site-packages/pydantic/main.py\", line 828, in __getattr__\n",
       "    raise AttributeError(f'{type(self).__name__!r} object has no attribute {item!r}')\n",
       "AttributeError: 'TaskRunContext' object has no attribute 'flow_run_id'\n",
       "</pre>\n"
      ],
      "text/plain": [
       "13:20:15.238 | \u001b[38;5;160mERROR\u001b[0m   | Task run 'log_schedule_time-0' - Task run failed with exception: AttributeError(\"'TaskRunContext' object has no attribute 'flow_run_id'\") - Retries are exhausted\n",
       "Traceback (most recent call last):\n",
       "  File \"/usr/local/lib/python3.11/site-packages/prefect/task_engine.py\", line 1338, in run_context\n",
       "    yield self\n",
       "  File \"/usr/local/lib/python3.11/site-packages/prefect/task_engine.py\", line 1420, in run_task_async\n",
       "    await engine.call_task_fn(txn)\n",
       "  File \"/usr/local/lib/python3.11/site-packages/prefect/task_engine.py\", line 1366, in call_task_fn\n",
       "    result = await call_with_parameters(self.task.fn, parameters)\n",
       "             ^^^^^^^^^^^^^^^^^^^^^^^^^^^^^^^^^^^^^^^^^^^^^^^^^^^^\n",
       "  File \"/tmp/ipykernel_6273/688090241.py\", line 14, in log_schedule_time\n",
       "    flow_run_id = context.flow_run_id\n",
       "                  ^^^^^^^^^^^^^^^^^^^\n",
       "  File \"/usr/local/lib/python3.11/site-packages/pydantic/main.py\", line 828, in __getattr__\n",
       "    raise AttributeError(f'{type(self).__name__!r} object has no attribute {item!r}')\n",
       "AttributeError: 'TaskRunContext' object has no attribute 'flow_run_id'\n"
      ]
     },
     "metadata": {},
     "output_type": "display_data"
    },
    {
     "data": {
      "text/html": [
       "<pre style=\"white-space:pre;overflow-x:auto;line-height:normal;font-family:Menlo,'DejaVu Sans Mono',consolas,'Courier New',monospace\">13:20:15.267 | <span style=\"color: #d70000; text-decoration-color: #d70000\">ERROR</span>   | Task run 'log_schedule_time-0' - Finished in state <span style=\"color: #d70000; text-decoration-color: #d70000\">Failed</span>(\"Task run encountered an exception AttributeError: 'TaskRunContext' object has no attribute 'flow_run_id'\")\n",
       "</pre>\n"
      ],
      "text/plain": [
       "13:20:15.267 | \u001b[38;5;160mERROR\u001b[0m   | Task run 'log_schedule_time-0' - Finished in state \u001b[38;5;160mFailed\u001b[0m(\"Task run encountered an exception AttributeError: 'TaskRunContext' object has no attribute 'flow_run_id'\")\n"
      ]
     },
     "metadata": {},
     "output_type": "display_data"
    },
    {
     "data": {
      "text/html": [
       "<pre style=\"white-space:pre;overflow-x:auto;line-height:normal;font-family:Menlo,'DejaVu Sans Mono',consolas,'Courier New',monospace\">13:20:15.270 | <span style=\"color: #d70000; text-decoration-color: #d70000\">ERROR</span>   | Flow run<span style=\"color: #800080; text-decoration-color: #800080\"> 'adaptable-emu'</span> - Encountered exception during execution: AttributeError(\"'TaskRunContext' object has no attribute 'flow_run_id'\")\n",
       "Traceback (most recent call last):\n",
       "  File \"/usr/local/lib/python3.11/site-packages/prefect/flow_engine.py\", line 636, in run_context\n",
       "    yield self\n",
       "  File \"/usr/local/lib/python3.11/site-packages/prefect/flow_engine.py\", line 680, in run_flow_sync\n",
       "    engine.call_flow_fn()\n",
       "  File \"/usr/local/lib/python3.11/site-packages/prefect/flow_engine.py\", line 659, in call_flow_fn\n",
       "    result = call_with_parameters(self.flow.fn, self.parameters)\n",
       "             ^^^^^^^^^^^^^^^^^^^^^^^^^^^^^^^^^^^^^^^^^^^^^^^^^^^\n",
       "  File \"/usr/local/lib/python3.11/site-packages/prefect/utilities/callables.py\", line 208, in call_with_parameters\n",
       "    return fn(*args, **kwargs)\n",
       "           ^^^^^^^^^^^^^^^^^^^\n",
       "  File \"/tmp/ipykernel_6273/688090241.py\", line 30, in my_flow\n",
       "    result = asyncio.run(log_schedule_time())\n",
       "             ^^^^^^^^^^^^^^^^^^^^^^^^^^^^^^^^\n",
       "  File \"/usr/local/lib/python3.11/site-packages/nest_asyncio.py\", line 30, in run\n",
       "    return loop.run_until_complete(task)\n",
       "           ^^^^^^^^^^^^^^^^^^^^^^^^^^^^^\n",
       "  File \"/usr/local/lib/python3.11/site-packages/nest_asyncio.py\", line 98, in run_until_complete\n",
       "    return f.result()\n",
       "           ^^^^^^^^^^\n",
       "  File \"/usr/local/lib/python3.11/asyncio/futures.py\", line 203, in result\n",
       "    raise self._exception.with_traceback(self._exception_tb)\n",
       "  File \"/usr/local/lib/python3.11/asyncio/tasks.py\", line 277, in __step\n",
       "    result = coro.send(None)\n",
       "             ^^^^^^^^^^^^^^^\n",
       "  File \"/usr/local/lib/python3.11/site-packages/prefect/task_engine.py\", line 1422, in run_task_async\n",
       "    return engine.state if return_type == \"state\" else await engine.result()\n",
       "                                                       ^^^^^^^^^^^^^^^^^^^^^\n",
       "  File \"/usr/local/lib/python3.11/site-packages/prefect/task_engine.py\", line 1010, in result\n",
       "    raise self._raised\n",
       "  File \"/usr/local/lib/python3.11/site-packages/prefect/task_engine.py\", line 1338, in run_context\n",
       "    yield self\n",
       "  File \"/usr/local/lib/python3.11/site-packages/prefect/task_engine.py\", line 1420, in run_task_async\n",
       "    await engine.call_task_fn(txn)\n",
       "  File \"/usr/local/lib/python3.11/site-packages/prefect/task_engine.py\", line 1366, in call_task_fn\n",
       "    result = await call_with_parameters(self.task.fn, parameters)\n",
       "             ^^^^^^^^^^^^^^^^^^^^^^^^^^^^^^^^^^^^^^^^^^^^^^^^^^^^\n",
       "  File \"/tmp/ipykernel_6273/688090241.py\", line 14, in log_schedule_time\n",
       "    flow_run_id = context.flow_run_id\n",
       "                  ^^^^^^^^^^^^^^^^^^^\n",
       "  File \"/usr/local/lib/python3.11/site-packages/pydantic/main.py\", line 828, in __getattr__\n",
       "    raise AttributeError(f'{type(self).__name__!r} object has no attribute {item!r}')\n",
       "AttributeError: 'TaskRunContext' object has no attribute 'flow_run_id'\n",
       "</pre>\n"
      ],
      "text/plain": [
       "13:20:15.270 | \u001b[38;5;160mERROR\u001b[0m   | Flow run\u001b[35m 'adaptable-emu'\u001b[0m - Encountered exception during execution: AttributeError(\"'TaskRunContext' object has no attribute 'flow_run_id'\")\n",
       "Traceback (most recent call last):\n",
       "  File \"/usr/local/lib/python3.11/site-packages/prefect/flow_engine.py\", line 636, in run_context\n",
       "    yield self\n",
       "  File \"/usr/local/lib/python3.11/site-packages/prefect/flow_engine.py\", line 680, in run_flow_sync\n",
       "    engine.call_flow_fn()\n",
       "  File \"/usr/local/lib/python3.11/site-packages/prefect/flow_engine.py\", line 659, in call_flow_fn\n",
       "    result = call_with_parameters(self.flow.fn, self.parameters)\n",
       "             ^^^^^^^^^^^^^^^^^^^^^^^^^^^^^^^^^^^^^^^^^^^^^^^^^^^\n",
       "  File \"/usr/local/lib/python3.11/site-packages/prefect/utilities/callables.py\", line 208, in call_with_parameters\n",
       "    return fn(*args, **kwargs)\n",
       "           ^^^^^^^^^^^^^^^^^^^\n",
       "  File \"/tmp/ipykernel_6273/688090241.py\", line 30, in my_flow\n",
       "    result = asyncio.run(log_schedule_time())\n",
       "             ^^^^^^^^^^^^^^^^^^^^^^^^^^^^^^^^\n",
       "  File \"/usr/local/lib/python3.11/site-packages/nest_asyncio.py\", line 30, in run\n",
       "    return loop.run_until_complete(task)\n",
       "           ^^^^^^^^^^^^^^^^^^^^^^^^^^^^^\n",
       "  File \"/usr/local/lib/python3.11/site-packages/nest_asyncio.py\", line 98, in run_until_complete\n",
       "    return f.result()\n",
       "           ^^^^^^^^^^\n",
       "  File \"/usr/local/lib/python3.11/asyncio/futures.py\", line 203, in result\n",
       "    raise self._exception.with_traceback(self._exception_tb)\n",
       "  File \"/usr/local/lib/python3.11/asyncio/tasks.py\", line 277, in __step\n",
       "    result = coro.send(None)\n",
       "             ^^^^^^^^^^^^^^^\n",
       "  File \"/usr/local/lib/python3.11/site-packages/prefect/task_engine.py\", line 1422, in run_task_async\n",
       "    return engine.state if return_type == \"state\" else await engine.result()\n",
       "                                                       ^^^^^^^^^^^^^^^^^^^^^\n",
       "  File \"/usr/local/lib/python3.11/site-packages/prefect/task_engine.py\", line 1010, in result\n",
       "    raise self._raised\n",
       "  File \"/usr/local/lib/python3.11/site-packages/prefect/task_engine.py\", line 1338, in run_context\n",
       "    yield self\n",
       "  File \"/usr/local/lib/python3.11/site-packages/prefect/task_engine.py\", line 1420, in run_task_async\n",
       "    await engine.call_task_fn(txn)\n",
       "  File \"/usr/local/lib/python3.11/site-packages/prefect/task_engine.py\", line 1366, in call_task_fn\n",
       "    result = await call_with_parameters(self.task.fn, parameters)\n",
       "             ^^^^^^^^^^^^^^^^^^^^^^^^^^^^^^^^^^^^^^^^^^^^^^^^^^^^\n",
       "  File \"/tmp/ipykernel_6273/688090241.py\", line 14, in log_schedule_time\n",
       "    flow_run_id = context.flow_run_id\n",
       "                  ^^^^^^^^^^^^^^^^^^^\n",
       "  File \"/usr/local/lib/python3.11/site-packages/pydantic/main.py\", line 828, in __getattr__\n",
       "    raise AttributeError(f'{type(self).__name__!r} object has no attribute {item!r}')\n",
       "AttributeError: 'TaskRunContext' object has no attribute 'flow_run_id'\n"
      ]
     },
     "metadata": {},
     "output_type": "display_data"
    },
    {
     "data": {
      "text/html": [
       "<pre style=\"white-space:pre;overflow-x:auto;line-height:normal;font-family:Menlo,'DejaVu Sans Mono',consolas,'Courier New',monospace\">13:20:15.304 | <span style=\"color: #d70000; text-decoration-color: #d70000\">ERROR</span>   | Flow run<span style=\"color: #800080; text-decoration-color: #800080\"> 'adaptable-emu'</span> - Finished in state <span style=\"color: #d70000; text-decoration-color: #d70000\">Failed</span>(\"Flow run encountered an exception: AttributeError: 'TaskRunContext' object has no attribute 'flow_run_id'\")\n",
       "</pre>\n"
      ],
      "text/plain": [
       "13:20:15.304 | \u001b[38;5;160mERROR\u001b[0m   | Flow run\u001b[35m 'adaptable-emu'\u001b[0m - Finished in state \u001b[38;5;160mFailed\u001b[0m(\"Flow run encountered an exception: AttributeError: 'TaskRunContext' object has no attribute 'flow_run_id'\")\n"
      ]
     },
     "metadata": {},
     "output_type": "display_data"
    },
    {
     "ename": "AttributeError",
     "evalue": "'TaskRunContext' object has no attribute 'flow_run_id'",
     "output_type": "error",
     "traceback": [
      "\u001b[0;31m---------------------------------------------------------------------------\u001b[0m",
      "\u001b[0;31mAttributeError\u001b[0m                            Traceback (most recent call last)",
      "Cell \u001b[0;32mIn[3], line 34\u001b[0m\n\u001b[1;32m     31\u001b[0m     \u001b[38;5;28;01mreturn\u001b[39;00m result\n\u001b[1;32m     33\u001b[0m \u001b[38;5;28;01mif\u001b[39;00m \u001b[38;5;18m__name__\u001b[39m \u001b[38;5;241m==\u001b[39m \u001b[38;5;124m'\u001b[39m\u001b[38;5;124m__main__\u001b[39m\u001b[38;5;124m'\u001b[39m:\n\u001b[0;32m---> 34\u001b[0m     \u001b[43mmy_flow\u001b[49m\u001b[43m(\u001b[49m\u001b[43m)\u001b[49m\n",
      "File \u001b[0;32m/usr/local/lib/python3.11/site-packages/prefect/flows.py:1360\u001b[0m, in \u001b[0;36mFlow.__call__\u001b[0;34m(self, return_state, wait_for, *args, **kwargs)\u001b[0m\n\u001b[1;32m   1356\u001b[0m     \u001b[38;5;28;01mreturn\u001b[39;00m track_viz_task(\u001b[38;5;28mself\u001b[39m\u001b[38;5;241m.\u001b[39misasync, \u001b[38;5;28mself\u001b[39m\u001b[38;5;241m.\u001b[39mname, parameters)\n\u001b[1;32m   1358\u001b[0m \u001b[38;5;28;01mfrom\u001b[39;00m \u001b[38;5;21;01mprefect\u001b[39;00m\u001b[38;5;21;01m.\u001b[39;00m\u001b[38;5;21;01mflow_engine\u001b[39;00m \u001b[38;5;28;01mimport\u001b[39;00m run_flow\n\u001b[0;32m-> 1360\u001b[0m \u001b[38;5;28;01mreturn\u001b[39;00m \u001b[43mrun_flow\u001b[49m\u001b[43m(\u001b[49m\n\u001b[1;32m   1361\u001b[0m \u001b[43m    \u001b[49m\u001b[43mflow\u001b[49m\u001b[38;5;241;43m=\u001b[39;49m\u001b[38;5;28;43mself\u001b[39;49m\u001b[43m,\u001b[49m\n\u001b[1;32m   1362\u001b[0m \u001b[43m    \u001b[49m\u001b[43mparameters\u001b[49m\u001b[38;5;241;43m=\u001b[39;49m\u001b[43mparameters\u001b[49m\u001b[43m,\u001b[49m\n\u001b[1;32m   1363\u001b[0m \u001b[43m    \u001b[49m\u001b[43mwait_for\u001b[49m\u001b[38;5;241;43m=\u001b[39;49m\u001b[43mwait_for\u001b[49m\u001b[43m,\u001b[49m\n\u001b[1;32m   1364\u001b[0m \u001b[43m    \u001b[49m\u001b[43mreturn_type\u001b[49m\u001b[38;5;241;43m=\u001b[39;49m\u001b[43mreturn_type\u001b[49m\u001b[43m,\u001b[49m\n\u001b[1;32m   1365\u001b[0m \u001b[43m\u001b[49m\u001b[43m)\u001b[49m\n",
      "File \u001b[0;32m/usr/local/lib/python3.11/site-packages/prefect/flow_engine.py:802\u001b[0m, in \u001b[0;36mrun_flow\u001b[0;34m(flow, flow_run, parameters, wait_for, return_type)\u001b[0m\n\u001b[1;32m    800\u001b[0m     \u001b[38;5;28;01mreturn\u001b[39;00m run_flow_async(\u001b[38;5;241m*\u001b[39m\u001b[38;5;241m*\u001b[39mkwargs)\n\u001b[1;32m    801\u001b[0m \u001b[38;5;28;01melse\u001b[39;00m:\n\u001b[0;32m--> 802\u001b[0m     \u001b[38;5;28;01mreturn\u001b[39;00m \u001b[43mrun_flow_sync\u001b[49m\u001b[43m(\u001b[49m\u001b[38;5;241;43m*\u001b[39;49m\u001b[38;5;241;43m*\u001b[39;49m\u001b[43mkwargs\u001b[49m\u001b[43m)\u001b[49m\n",
      "File \u001b[0;32m/usr/local/lib/python3.11/site-packages/prefect/flow_engine.py:682\u001b[0m, in \u001b[0;36mrun_flow_sync\u001b[0;34m(flow, flow_run, parameters, wait_for, return_type)\u001b[0m\n\u001b[1;32m    679\u001b[0m         \u001b[38;5;28;01mwith\u001b[39;00m engine\u001b[38;5;241m.\u001b[39mrun_context():\n\u001b[1;32m    680\u001b[0m             engine\u001b[38;5;241m.\u001b[39mcall_flow_fn()\n\u001b[0;32m--> 682\u001b[0m \u001b[38;5;28;01mreturn\u001b[39;00m engine\u001b[38;5;241m.\u001b[39mstate \u001b[38;5;28;01mif\u001b[39;00m return_type \u001b[38;5;241m==\u001b[39m \u001b[38;5;124m\"\u001b[39m\u001b[38;5;124mstate\u001b[39m\u001b[38;5;124m\"\u001b[39m \u001b[38;5;28;01melse\u001b[39;00m \u001b[43mengine\u001b[49m\u001b[38;5;241;43m.\u001b[39;49m\u001b[43mresult\u001b[49m\u001b[43m(\u001b[49m\u001b[43m)\u001b[49m\n",
      "File \u001b[0;32m/usr/local/lib/python3.11/site-packages/prefect/flow_engine.py:246\u001b[0m, in \u001b[0;36mFlowRunEngine.result\u001b[0;34m(self, raise_on_failure)\u001b[0m\n\u001b[1;32m    244\u001b[0m \u001b[38;5;28;01mif\u001b[39;00m \u001b[38;5;28mself\u001b[39m\u001b[38;5;241m.\u001b[39m_raised \u001b[38;5;129;01mis\u001b[39;00m \u001b[38;5;129;01mnot\u001b[39;00m NotSet:\n\u001b[1;32m    245\u001b[0m     \u001b[38;5;28;01mif\u001b[39;00m raise_on_failure:\n\u001b[0;32m--> 246\u001b[0m         \u001b[38;5;28;01mraise\u001b[39;00m \u001b[38;5;28mself\u001b[39m\u001b[38;5;241m.\u001b[39m_raised\n\u001b[1;32m    247\u001b[0m     \u001b[38;5;28;01mreturn\u001b[39;00m \u001b[38;5;28mself\u001b[39m\u001b[38;5;241m.\u001b[39m_raised\n\u001b[1;32m    249\u001b[0m \u001b[38;5;66;03m# This is a fall through case which leans on the existing state result mechanics to get the\u001b[39;00m\n\u001b[1;32m    250\u001b[0m \u001b[38;5;66;03m# return value. This is necessary because we currently will return a State object if the\u001b[39;00m\n\u001b[1;32m    251\u001b[0m \u001b[38;5;66;03m# the State was Prefect-created.\u001b[39;00m\n\u001b[1;32m    252\u001b[0m \u001b[38;5;66;03m# TODO: Remove the need to get the result from a State except in cases where the return value\u001b[39;00m\n\u001b[1;32m    253\u001b[0m \u001b[38;5;66;03m# is a State object.\u001b[39;00m\n",
      "File \u001b[0;32m/usr/local/lib/python3.11/site-packages/prefect/flow_engine.py:636\u001b[0m, in \u001b[0;36mFlowRunEngine.run_context\u001b[0;34m(self)\u001b[0m\n\u001b[1;32m    629\u001b[0m     \u001b[38;5;28;01mwith\u001b[39;00m timeout_context(\n\u001b[1;32m    630\u001b[0m         seconds\u001b[38;5;241m=\u001b[39m\u001b[38;5;28mself\u001b[39m\u001b[38;5;241m.\u001b[39mflow\u001b[38;5;241m.\u001b[39mtimeout_seconds,\n\u001b[1;32m    631\u001b[0m         timeout_exc_type\u001b[38;5;241m=\u001b[39mFlowRunTimeoutError,\n\u001b[1;32m    632\u001b[0m     ):\n\u001b[1;32m    633\u001b[0m         \u001b[38;5;28mself\u001b[39m\u001b[38;5;241m.\u001b[39mlogger\u001b[38;5;241m.\u001b[39mdebug(\n\u001b[1;32m    634\u001b[0m             \u001b[38;5;124mf\u001b[39m\u001b[38;5;124m\"\u001b[39m\u001b[38;5;124mExecuting flow \u001b[39m\u001b[38;5;132;01m{\u001b[39;00m\u001b[38;5;28mself\u001b[39m\u001b[38;5;241m.\u001b[39mflow\u001b[38;5;241m.\u001b[39mname\u001b[38;5;132;01m!r}\u001b[39;00m\u001b[38;5;124m for flow run \u001b[39m\u001b[38;5;132;01m{\u001b[39;00m\u001b[38;5;28mself\u001b[39m\u001b[38;5;241m.\u001b[39mflow_run\u001b[38;5;241m.\u001b[39mname\u001b[38;5;132;01m!r}\u001b[39;00m\u001b[38;5;124m...\u001b[39m\u001b[38;5;124m\"\u001b[39m\n\u001b[1;32m    635\u001b[0m         )\n\u001b[0;32m--> 636\u001b[0m         \u001b[38;5;28;01myield\u001b[39;00m \u001b[38;5;28mself\u001b[39m\n\u001b[1;32m    637\u001b[0m \u001b[38;5;28;01mexcept\u001b[39;00m \u001b[38;5;167;01mTimeoutError\u001b[39;00m \u001b[38;5;28;01mas\u001b[39;00m exc:\n\u001b[1;32m    638\u001b[0m     \u001b[38;5;28mself\u001b[39m\u001b[38;5;241m.\u001b[39mhandle_timeout(exc)\n",
      "File \u001b[0;32m/usr/local/lib/python3.11/site-packages/prefect/flow_engine.py:680\u001b[0m, in \u001b[0;36mrun_flow_sync\u001b[0;34m(flow, flow_run, parameters, wait_for, return_type)\u001b[0m\n\u001b[1;32m    678\u001b[0m     \u001b[38;5;28;01mwhile\u001b[39;00m engine\u001b[38;5;241m.\u001b[39mis_running():\n\u001b[1;32m    679\u001b[0m         \u001b[38;5;28;01mwith\u001b[39;00m engine\u001b[38;5;241m.\u001b[39mrun_context():\n\u001b[0;32m--> 680\u001b[0m             \u001b[43mengine\u001b[49m\u001b[38;5;241;43m.\u001b[39;49m\u001b[43mcall_flow_fn\u001b[49m\u001b[43m(\u001b[49m\u001b[43m)\u001b[49m\n\u001b[1;32m    682\u001b[0m \u001b[38;5;28;01mreturn\u001b[39;00m engine\u001b[38;5;241m.\u001b[39mstate \u001b[38;5;28;01mif\u001b[39;00m return_type \u001b[38;5;241m==\u001b[39m \u001b[38;5;124m\"\u001b[39m\u001b[38;5;124mstate\u001b[39m\u001b[38;5;124m\"\u001b[39m \u001b[38;5;28;01melse\u001b[39;00m engine\u001b[38;5;241m.\u001b[39mresult()\n",
      "File \u001b[0;32m/usr/local/lib/python3.11/site-packages/prefect/flow_engine.py:659\u001b[0m, in \u001b[0;36mFlowRunEngine.call_flow_fn\u001b[0;34m(self)\u001b[0m\n\u001b[1;32m    657\u001b[0m     \u001b[38;5;28;01mreturn\u001b[39;00m _call_flow_fn()\n\u001b[1;32m    658\u001b[0m \u001b[38;5;28;01melse\u001b[39;00m:\n\u001b[0;32m--> 659\u001b[0m     result \u001b[38;5;241m=\u001b[39m \u001b[43mcall_with_parameters\u001b[49m\u001b[43m(\u001b[49m\u001b[38;5;28;43mself\u001b[39;49m\u001b[38;5;241;43m.\u001b[39;49m\u001b[43mflow\u001b[49m\u001b[38;5;241;43m.\u001b[39;49m\u001b[43mfn\u001b[49m\u001b[43m,\u001b[49m\u001b[43m \u001b[49m\u001b[38;5;28;43mself\u001b[39;49m\u001b[38;5;241;43m.\u001b[39;49m\u001b[43mparameters\u001b[49m\u001b[43m)\u001b[49m\n\u001b[1;32m    660\u001b[0m     \u001b[38;5;28mself\u001b[39m\u001b[38;5;241m.\u001b[39mhandle_success(result)\n",
      "File \u001b[0;32m/usr/local/lib/python3.11/site-packages/prefect/utilities/callables.py:208\u001b[0m, in \u001b[0;36mcall_with_parameters\u001b[0;34m(fn, parameters)\u001b[0m\n\u001b[1;32m    200\u001b[0m \u001b[38;5;250m\u001b[39m\u001b[38;5;124;03m\"\"\"\u001b[39;00m\n\u001b[1;32m    201\u001b[0m \u001b[38;5;124;03mCall a function with parameters extracted with `get_call_parameters`\u001b[39;00m\n\u001b[1;32m    202\u001b[0m \n\u001b[0;32m   (...)\u001b[0m\n\u001b[1;32m    205\u001b[0m \u001b[38;5;124;03mthe args/kwargs using `parameters_to_positional_and_keyword` directly\u001b[39;00m\n\u001b[1;32m    206\u001b[0m \u001b[38;5;124;03m\"\"\"\u001b[39;00m\n\u001b[1;32m    207\u001b[0m args, kwargs \u001b[38;5;241m=\u001b[39m parameters_to_args_kwargs(fn, parameters)\n\u001b[0;32m--> 208\u001b[0m \u001b[38;5;28;01mreturn\u001b[39;00m \u001b[43mfn\u001b[49m\u001b[43m(\u001b[49m\u001b[38;5;241;43m*\u001b[39;49m\u001b[43margs\u001b[49m\u001b[43m,\u001b[49m\u001b[43m \u001b[49m\u001b[38;5;241;43m*\u001b[39;49m\u001b[38;5;241;43m*\u001b[39;49m\u001b[43mkwargs\u001b[49m\u001b[43m)\u001b[49m\n",
      "Cell \u001b[0;32mIn[3], line 30\u001b[0m, in \u001b[0;36mmy_flow\u001b[0;34m()\u001b[0m\n\u001b[1;32m     26\u001b[0m \u001b[38;5;129m@flow\u001b[39m\n\u001b[1;32m     27\u001b[0m \u001b[38;5;28;01mdef\u001b[39;00m \u001b[38;5;21mmy_flow\u001b[39m():\n\u001b[1;32m     28\u001b[0m     \u001b[38;5;66;03m# Because log_schedule_time is async, await it in an async context.\u001b[39;00m\n\u001b[1;32m     29\u001b[0m     \u001b[38;5;66;03m# In Jupyter you can use top-level await. Otherwise, you can run the async function via asyncio.run().\u001b[39;00m\n\u001b[0;32m---> 30\u001b[0m     result \u001b[38;5;241m=\u001b[39m \u001b[43masyncio\u001b[49m\u001b[38;5;241;43m.\u001b[39;49m\u001b[43mrun\u001b[49m\u001b[43m(\u001b[49m\u001b[43mlog_schedule_time\u001b[49m\u001b[43m(\u001b[49m\u001b[43m)\u001b[49m\u001b[43m)\u001b[49m\n\u001b[1;32m     31\u001b[0m     \u001b[38;5;28;01mreturn\u001b[39;00m result\n",
      "File \u001b[0;32m/usr/local/lib/python3.11/site-packages/nest_asyncio.py:30\u001b[0m, in \u001b[0;36m_patch_asyncio.<locals>.run\u001b[0;34m(main, debug)\u001b[0m\n\u001b[1;32m     28\u001b[0m task \u001b[38;5;241m=\u001b[39m asyncio\u001b[38;5;241m.\u001b[39mensure_future(main)\n\u001b[1;32m     29\u001b[0m \u001b[38;5;28;01mtry\u001b[39;00m:\n\u001b[0;32m---> 30\u001b[0m     \u001b[38;5;28;01mreturn\u001b[39;00m \u001b[43mloop\u001b[49m\u001b[38;5;241;43m.\u001b[39;49m\u001b[43mrun_until_complete\u001b[49m\u001b[43m(\u001b[49m\u001b[43mtask\u001b[49m\u001b[43m)\u001b[49m\n\u001b[1;32m     31\u001b[0m \u001b[38;5;28;01mfinally\u001b[39;00m:\n\u001b[1;32m     32\u001b[0m     \u001b[38;5;28;01mif\u001b[39;00m \u001b[38;5;129;01mnot\u001b[39;00m task\u001b[38;5;241m.\u001b[39mdone():\n",
      "File \u001b[0;32m/usr/local/lib/python3.11/site-packages/nest_asyncio.py:98\u001b[0m, in \u001b[0;36m_patch_loop.<locals>.run_until_complete\u001b[0;34m(self, future)\u001b[0m\n\u001b[1;32m     95\u001b[0m \u001b[38;5;28;01mif\u001b[39;00m \u001b[38;5;129;01mnot\u001b[39;00m f\u001b[38;5;241m.\u001b[39mdone():\n\u001b[1;32m     96\u001b[0m     \u001b[38;5;28;01mraise\u001b[39;00m \u001b[38;5;167;01mRuntimeError\u001b[39;00m(\n\u001b[1;32m     97\u001b[0m         \u001b[38;5;124m'\u001b[39m\u001b[38;5;124mEvent loop stopped before Future completed.\u001b[39m\u001b[38;5;124m'\u001b[39m)\n\u001b[0;32m---> 98\u001b[0m \u001b[38;5;28;01mreturn\u001b[39;00m \u001b[43mf\u001b[49m\u001b[38;5;241;43m.\u001b[39;49m\u001b[43mresult\u001b[49m\u001b[43m(\u001b[49m\u001b[43m)\u001b[49m\n",
      "File \u001b[0;32m/usr/local/lib/python3.11/asyncio/futures.py:203\u001b[0m, in \u001b[0;36mFuture.result\u001b[0;34m(self)\u001b[0m\n\u001b[1;32m    201\u001b[0m \u001b[38;5;28mself\u001b[39m\u001b[38;5;241m.\u001b[39m__log_traceback \u001b[38;5;241m=\u001b[39m \u001b[38;5;28;01mFalse\u001b[39;00m\n\u001b[1;32m    202\u001b[0m \u001b[38;5;28;01mif\u001b[39;00m \u001b[38;5;28mself\u001b[39m\u001b[38;5;241m.\u001b[39m_exception \u001b[38;5;129;01mis\u001b[39;00m \u001b[38;5;129;01mnot\u001b[39;00m \u001b[38;5;28;01mNone\u001b[39;00m:\n\u001b[0;32m--> 203\u001b[0m     \u001b[38;5;28;01mraise\u001b[39;00m \u001b[38;5;28mself\u001b[39m\u001b[38;5;241m.\u001b[39m_exception\u001b[38;5;241m.\u001b[39mwith_traceback(\u001b[38;5;28mself\u001b[39m\u001b[38;5;241m.\u001b[39m_exception_tb)\n\u001b[1;32m    204\u001b[0m \u001b[38;5;28;01mreturn\u001b[39;00m \u001b[38;5;28mself\u001b[39m\u001b[38;5;241m.\u001b[39m_result\n",
      "File \u001b[0;32m/usr/local/lib/python3.11/asyncio/tasks.py:277\u001b[0m, in \u001b[0;36mTask.__step\u001b[0;34m(***failed resolving arguments***)\u001b[0m\n\u001b[1;32m    273\u001b[0m \u001b[38;5;28;01mtry\u001b[39;00m:\n\u001b[1;32m    274\u001b[0m     \u001b[38;5;28;01mif\u001b[39;00m exc \u001b[38;5;129;01mis\u001b[39;00m \u001b[38;5;28;01mNone\u001b[39;00m:\n\u001b[1;32m    275\u001b[0m         \u001b[38;5;66;03m# We use the `send` method directly, because coroutines\u001b[39;00m\n\u001b[1;32m    276\u001b[0m         \u001b[38;5;66;03m# don't have `__iter__` and `__next__` methods.\u001b[39;00m\n\u001b[0;32m--> 277\u001b[0m         result \u001b[38;5;241m=\u001b[39m coro\u001b[38;5;241m.\u001b[39msend(\u001b[38;5;28;01mNone\u001b[39;00m)\n\u001b[1;32m    278\u001b[0m     \u001b[38;5;28;01melse\u001b[39;00m:\n\u001b[1;32m    279\u001b[0m         result \u001b[38;5;241m=\u001b[39m coro\u001b[38;5;241m.\u001b[39mthrow(exc)\n",
      "File \u001b[0;32m/usr/local/lib/python3.11/site-packages/prefect/task_engine.py:1422\u001b[0m, in \u001b[0;36mrun_task_async\u001b[0;34m(task, task_run_id, task_run, parameters, wait_for, return_type, dependencies, context)\u001b[0m\n\u001b[1;32m   1419\u001b[0m         \u001b[38;5;28;01masync\u001b[39;00m \u001b[38;5;28;01mwith\u001b[39;00m engine\u001b[38;5;241m.\u001b[39mrun_context(), engine\u001b[38;5;241m.\u001b[39mtransaction_context() \u001b[38;5;28;01mas\u001b[39;00m txn:\n\u001b[1;32m   1420\u001b[0m             \u001b[38;5;28;01mawait\u001b[39;00m engine\u001b[38;5;241m.\u001b[39mcall_task_fn(txn)\n\u001b[0;32m-> 1422\u001b[0m \u001b[38;5;28;01mreturn\u001b[39;00m engine\u001b[38;5;241m.\u001b[39mstate \u001b[38;5;28;01mif\u001b[39;00m return_type \u001b[38;5;241m==\u001b[39m \u001b[38;5;124m\"\u001b[39m\u001b[38;5;124mstate\u001b[39m\u001b[38;5;124m\"\u001b[39m \u001b[38;5;28;01melse\u001b[39;00m \u001b[38;5;28;01mawait\u001b[39;00m engine\u001b[38;5;241m.\u001b[39mresult()\n",
      "File \u001b[0;32m/usr/local/lib/python3.11/site-packages/prefect/task_engine.py:1010\u001b[0m, in \u001b[0;36mAsyncTaskRunEngine.result\u001b[0;34m(self, raise_on_failure)\u001b[0m\n\u001b[1;32m   1007\u001b[0m \u001b[38;5;28;01mif\u001b[39;00m \u001b[38;5;28mself\u001b[39m\u001b[38;5;241m.\u001b[39m_raised \u001b[38;5;129;01mis\u001b[39;00m \u001b[38;5;129;01mnot\u001b[39;00m NotSet:\n\u001b[1;32m   1008\u001b[0m     \u001b[38;5;66;03m# if the task raised an exception, raise it\u001b[39;00m\n\u001b[1;32m   1009\u001b[0m     \u001b[38;5;28;01mif\u001b[39;00m raise_on_failure:\n\u001b[0;32m-> 1010\u001b[0m         \u001b[38;5;28;01mraise\u001b[39;00m \u001b[38;5;28mself\u001b[39m\u001b[38;5;241m.\u001b[39m_raised\n\u001b[1;32m   1012\u001b[0m     \u001b[38;5;66;03m# otherwise, return the exception\u001b[39;00m\n\u001b[1;32m   1013\u001b[0m     \u001b[38;5;28;01mreturn\u001b[39;00m \u001b[38;5;28mself\u001b[39m\u001b[38;5;241m.\u001b[39m_raised\n",
      "File \u001b[0;32m/usr/local/lib/python3.11/site-packages/prefect/task_engine.py:1338\u001b[0m, in \u001b[0;36mAsyncTaskRunEngine.run_context\u001b[0;34m(self)\u001b[0m\n\u001b[1;32m   1335\u001b[0m         \u001b[38;5;28;01mif\u001b[39;00m \u001b[38;5;28mself\u001b[39m\u001b[38;5;241m.\u001b[39mis_cancelled():\n\u001b[1;32m   1336\u001b[0m             \u001b[38;5;28;01mraise\u001b[39;00m CancelledError(\u001b[38;5;124m\"\u001b[39m\u001b[38;5;124mTask run cancelled by the task runner\u001b[39m\u001b[38;5;124m\"\u001b[39m)\n\u001b[0;32m-> 1338\u001b[0m         \u001b[38;5;28;01myield\u001b[39;00m \u001b[38;5;28mself\u001b[39m\n\u001b[1;32m   1339\u001b[0m \u001b[38;5;28;01mexcept\u001b[39;00m \u001b[38;5;167;01mTimeoutError\u001b[39;00m \u001b[38;5;28;01mas\u001b[39;00m exc:\n\u001b[1;32m   1340\u001b[0m     \u001b[38;5;28;01mawait\u001b[39;00m \u001b[38;5;28mself\u001b[39m\u001b[38;5;241m.\u001b[39mhandle_timeout(exc)\n",
      "File \u001b[0;32m/usr/local/lib/python3.11/site-packages/prefect/task_engine.py:1420\u001b[0m, in \u001b[0;36mrun_task_async\u001b[0;34m(task, task_run_id, task_run, parameters, wait_for, return_type, dependencies, context)\u001b[0m\n\u001b[1;32m   1418\u001b[0m         \u001b[38;5;28;01mawait\u001b[39;00m engine\u001b[38;5;241m.\u001b[39mwait_until_ready()\n\u001b[1;32m   1419\u001b[0m         \u001b[38;5;28;01masync\u001b[39;00m \u001b[38;5;28;01mwith\u001b[39;00m engine\u001b[38;5;241m.\u001b[39mrun_context(), engine\u001b[38;5;241m.\u001b[39mtransaction_context() \u001b[38;5;28;01mas\u001b[39;00m txn:\n\u001b[0;32m-> 1420\u001b[0m             \u001b[38;5;28;01mawait\u001b[39;00m engine\u001b[38;5;241m.\u001b[39mcall_task_fn(txn)\n\u001b[1;32m   1422\u001b[0m \u001b[38;5;28;01mreturn\u001b[39;00m engine\u001b[38;5;241m.\u001b[39mstate \u001b[38;5;28;01mif\u001b[39;00m return_type \u001b[38;5;241m==\u001b[39m \u001b[38;5;124m\"\u001b[39m\u001b[38;5;124mstate\u001b[39m\u001b[38;5;124m\"\u001b[39m \u001b[38;5;28;01melse\u001b[39;00m \u001b[38;5;28;01mawait\u001b[39;00m engine\u001b[38;5;241m.\u001b[39mresult()\n",
      "File \u001b[0;32m/usr/local/lib/python3.11/site-packages/prefect/task_engine.py:1366\u001b[0m, in \u001b[0;36mAsyncTaskRunEngine.call_task_fn\u001b[0;34m(self, transaction)\u001b[0m\n\u001b[1;32m   1364\u001b[0m             result \u001b[38;5;241m=\u001b[39m \u001b[38;5;28;01mawait\u001b[39;00m call_with_parameters(\u001b[38;5;28mself\u001b[39m\u001b[38;5;241m.\u001b[39mtask\u001b[38;5;241m.\u001b[39mfn, parameters)\n\u001b[1;32m   1365\u001b[0m     \u001b[38;5;28;01melse\u001b[39;00m:\n\u001b[0;32m-> 1366\u001b[0m         result \u001b[38;5;241m=\u001b[39m \u001b[38;5;28;01mawait\u001b[39;00m call_with_parameters(\u001b[38;5;28mself\u001b[39m\u001b[38;5;241m.\u001b[39mtask\u001b[38;5;241m.\u001b[39mfn, parameters)\n\u001b[1;32m   1367\u001b[0m \u001b[38;5;28;01mawait\u001b[39;00m \u001b[38;5;28mself\u001b[39m\u001b[38;5;241m.\u001b[39mhandle_success(result, transaction\u001b[38;5;241m=\u001b[39mtransaction)\n\u001b[1;32m   1368\u001b[0m \u001b[38;5;28;01mreturn\u001b[39;00m result\n",
      "Cell \u001b[0;32mIn[3], line 14\u001b[0m, in \u001b[0;36mlog_schedule_time\u001b[0;34m()\u001b[0m\n\u001b[1;32m     12\u001b[0m context \u001b[38;5;241m=\u001b[39m get_run_context()\n\u001b[1;32m     13\u001b[0m \u001b[38;5;66;03m# Get the flow run ID from the context\u001b[39;00m\n\u001b[0;32m---> 14\u001b[0m flow_run_id \u001b[38;5;241m=\u001b[39m \u001b[43mcontext\u001b[49m\u001b[38;5;241;43m.\u001b[39;49m\u001b[43mflow_run_id\u001b[49m\n\u001b[1;32m     15\u001b[0m \u001b[38;5;28mprint\u001b[39m(\u001b[38;5;124mf\u001b[39m\u001b[38;5;124m\"\u001b[39m\u001b[38;5;124mFlow run ID: \u001b[39m\u001b[38;5;132;01m{\u001b[39;00mflow_run_id\u001b[38;5;132;01m}\u001b[39;00m\u001b[38;5;124m\"\u001b[39m)\n\u001b[1;32m     17\u001b[0m \u001b[38;5;66;03m# Use the Prefect client to retrieve full flow run details\u001b[39;00m\n",
      "File \u001b[0;32m/usr/local/lib/python3.11/site-packages/pydantic/main.py:828\u001b[0m, in \u001b[0;36mBaseModel.__getattr__\u001b[0;34m(self, item)\u001b[0m\n\u001b[1;32m    825\u001b[0m     \u001b[38;5;28;01mreturn\u001b[39;00m \u001b[38;5;28msuper\u001b[39m()\u001b[38;5;241m.\u001b[39m\u001b[38;5;21m__getattribute__\u001b[39m(item)  \u001b[38;5;66;03m# Raises AttributeError if appropriate\u001b[39;00m\n\u001b[1;32m    826\u001b[0m \u001b[38;5;28;01melse\u001b[39;00m:\n\u001b[1;32m    827\u001b[0m     \u001b[38;5;66;03m# this is the current error\u001b[39;00m\n\u001b[0;32m--> 828\u001b[0m     \u001b[38;5;28;01mraise\u001b[39;00m \u001b[38;5;167;01mAttributeError\u001b[39;00m(\u001b[38;5;124mf\u001b[39m\u001b[38;5;124m'\u001b[39m\u001b[38;5;132;01m{\u001b[39;00m\u001b[38;5;28mtype\u001b[39m(\u001b[38;5;28mself\u001b[39m)\u001b[38;5;241m.\u001b[39m\u001b[38;5;18m__name__\u001b[39m\u001b[38;5;132;01m!r}\u001b[39;00m\u001b[38;5;124m object has no attribute \u001b[39m\u001b[38;5;132;01m{\u001b[39;00mitem\u001b[38;5;132;01m!r}\u001b[39;00m\u001b[38;5;124m'\u001b[39m)\n",
      "\u001b[0;31mAttributeError\u001b[0m: 'TaskRunContext' object has no attribute 'flow_run_id'"
     ]
    }
   ],
   "source": [
    "import nest_asyncio\n",
    "nest_asyncio.apply()\n",
    "\n",
    "import asyncio\n",
    "from prefect import flow, task\n",
    "from prefect.context import get_run_context\n",
    "from prefect.client import get_client\n",
    "\n",
    "@task\n",
    "async def log_schedule_time():\n",
    "    # Retrieve the current run context\n",
    "    context = get_run_context()\n",
    "    # Get the flow run ID from the context\n",
    "    flow_run_id = context.flow_run_id\n",
    "    print(f\"Flow run ID: {flow_run_id}\")\n",
    "    \n",
    "    # Use the Prefect client to retrieve full flow run details\n",
    "    async with get_client() as client:\n",
    "        flow_run = await client.read_flow_run(flow_run_id)\n",
    "        # scheduled_start_time may be None if no schedule was applied;\n",
    "        # otherwise, it should be set.\n",
    "        scheduled_time = flow_run.scheduled_start_time\n",
    "        print(f\"This flow run was scheduled to start at: {scheduled_time}\")\n",
    "    return scheduled_time\n",
    "\n",
    "@flow\n",
    "def my_flow():\n",
    "    # Because log_schedule_time is async, await it in an async context.\n",
    "    # In Jupyter you can use top-level await. Otherwise, you can run the async function via asyncio.run().\n",
    "    result = asyncio.run(log_schedule_time())\n",
    "    return result\n",
    "\n",
    "if __name__ == '__main__':\n",
    "    my_flow()\n"
   ]
  },
  {
   "cell_type": "code",
   "execution_count": null,
   "id": "cec22f91-e9a5-4658-856d-b90011b8aee4",
   "metadata": {},
   "outputs": [],
   "source": []
  }
 ],
 "metadata": {
  "kernelspec": {
   "display_name": "Python 3 (ipykernel)",
   "language": "python",
   "name": "python3"
  },
  "language_info": {
   "codemirror_mode": {
    "name": "ipython",
    "version": 3
   },
   "file_extension": ".py",
   "mimetype": "text/x-python",
   "name": "python",
   "nbconvert_exporter": "python",
   "pygments_lexer": "ipython3",
   "version": "3.11.9"
  }
 },
 "nbformat": 4,
 "nbformat_minor": 5
}
