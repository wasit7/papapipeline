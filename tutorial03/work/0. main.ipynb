{
 "cells": [
  {
   "cell_type": "code",
   "execution_count": 1,
   "id": "5b7764e8-3824-432a-a749-5502158f2a36",
   "metadata": {},
   "outputs": [
    {
     "name": "stdout",
     "output_type": "stream",
     "text": [
      ">>> result: Hello, DSI321: Big Data Infrastructure!\n"
     ]
    }
   ],
   "source": [
    "def say_hello():\n",
    "    return \"Hello, \"\n",
    "\n",
    "def get_name():\n",
    "    return \"DSI321: Big Data Infrastructure\"\n",
    "    \n",
    "def hello_flow():\n",
    "    result = say_hello() + get_name() + \"!\"\n",
    "    print(f\">>> result: {result}\")\n",
    "    return result\n",
    "\n",
    "if __name__ == '__main__':\n",
    "    hello_flow()"
   ]
  },
  {
   "cell_type": "code",
   "execution_count": null,
   "id": "7cf25d54-facd-422a-937c-591b7bd29ca9",
   "metadata": {},
   "outputs": [],
   "source": []
  }
 ],
 "metadata": {
  "kernelspec": {
   "display_name": "Python 3 (ipykernel)",
   "language": "python",
   "name": "python3"
  },
  "language_info": {
   "codemirror_mode": {
    "name": "ipython",
    "version": 3
   },
   "file_extension": ".py",
   "mimetype": "text/x-python",
   "name": "python",
   "nbconvert_exporter": "python",
   "pygments_lexer": "ipython3",
   "version": "3.11.9"
  }
 },
 "nbformat": 4,
 "nbformat_minor": 5
}
