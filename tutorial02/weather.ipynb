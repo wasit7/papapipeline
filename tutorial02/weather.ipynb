{
 "cells": [
  {
   "cell_type": "code",
   "execution_count": 19,
   "id": "f7730e78-22e9-4f7d-9893-0ff071a8a33f",
   "metadata": {},
   "outputs": [],
   "source": [
    "# pip install pandas"
   ]
  },
  {
   "cell_type": "code",
   "execution_count": 20,
   "id": "101a81d7-5ae0-4f2c-8849-383067304066",
   "metadata": {},
   "outputs": [],
   "source": [
    "import os\n",
    "import time\n",
    "import datetime\n",
    "import requests\n",
    "import pandas as pd"
   ]
  },
  {
   "cell_type": "code",
   "execution_count": 21,
   "id": "baf85a34-24a0-4add-97dd-5f38c6bc9951",
   "metadata": {},
   "outputs": [],
   "source": [
    "API_KEY = 'c3c394ef76cc381e330ecdf90d766a10'\n",
    "WEATHER_ENDPOINT = \"https://api.openweathermap.org/data/2.5/weather\"\n",
    "POLLUTION_ENDPOINT = \"http://api.openweathermap.org/data/2.5/air_pollution\""
   ]
  },
  {
   "cell_type": "code",
   "execution_count": 22,
   "id": "7b061789-dada-4e69-b985-d6dc7ce5123e",
   "metadata": {},
   "outputs": [],
   "source": [
    "provinces = [\n",
    "    {\"province\": \"Bangkok\",        \"lat\": 13.7563, \"lon\": 100.5018},\n",
    "    {\"province\": \"Chiang Mai\",     \"lat\": 18.7883, \"lon\": 98.9853},\n",
    "    {\"province\": \"Phuket\",         \"lat\": 7.9519,  \"lon\": 98.3381}\n",
    "]"
   ]
  },
  {
   "cell_type": "code",
   "execution_count": 23,
   "id": "84c5b38a-de48-4faf-abc7-07a87392f912",
   "metadata": {},
   "outputs": [],
   "source": [
    "BASE_OUTPUT_DIR = \"/landing/weather\""
   ]
  },
  {
   "cell_type": "code",
   "execution_count": 24,
   "id": "bcb48d05-9046-459b-b7b2-ed305b3b6779",
   "metadata": {},
   "outputs": [
    {
     "data": {
      "text/plain": [
       "<Response [200]>"
      ]
     },
     "execution_count": 24,
     "metadata": {},
     "output_type": "execute_result"
    }
   ],
   "source": [
    "params = {\n",
    "    \"lat\": 13.7563,\n",
    "    \"lon\": 100.5018,\n",
    "    \"appid\": 'c3c394ef76cc381e330ecdf90d766a10',\n",
    "    \"units\": \"metric\"\n",
    "}\n",
    "response = requests.get('https://api.openweathermap.org/data/2.5/weather', params=params)\n",
    "response"
   ]
  },
  {
   "cell_type": "code",
   "execution_count": 25,
   "id": "1b165d2b-6e3d-4fdc-93ac-57ffcee1b12a",
   "metadata": {},
   "outputs": [],
   "source": [
    "def fetch_current_weather(lat, lon):\n",
    "    \"\"\"Fetch current weather data from OpenWeatherMap.\"\"\"\n",
    "    params = {\n",
    "        \"lat\": lat,\n",
    "        \"lon\": lon,\n",
    "        \"appid\": API_KEY,\n",
    "        \"units\": \"metric\"\n",
    "    }\n",
    "    response = requests.get(WEATHER_ENDPOINT, params=params)\n",
    "    response.raise_for_status()\n",
    "    return response.json()\n",
    "\n",
    "def fetch_current_pollution(lat, lon):\n",
    "    \"\"\"Fetch current air pollution data from OpenWeatherMap.\"\"\"\n",
    "    params = {\n",
    "        \"lat\": lat,\n",
    "        \"lon\": lon,\n",
    "        \"appid\": API_KEY\n",
    "    }\n",
    "    response = requests.get(POLLUTION_ENDPOINT, params=params)\n",
    "    response.raise_for_status()\n",
    "    return response.json()\n",
    "\n",
    "for loc in provinces:\n",
    "    weather_json = fetch_current_weather(loc[\"lat\"], loc[\"lon\"])"
   ]
  },
  {
   "cell_type": "code",
   "execution_count": 26,
   "id": "2a99e83b-4e52-414a-a58f-053e66ce0bbf",
   "metadata": {},
   "outputs": [
    {
     "data": {
      "text/plain": [
       "{'coord': {'lon': 98.3381, 'lat': 7.9519},\n",
       " 'weather': [{'id': 801,\n",
       "   'main': 'Clouds',\n",
       "   'description': 'few clouds',\n",
       "   'icon': '02d'}],\n",
       " 'base': 'stations',\n",
       " 'main': {'temp': 28.41,\n",
       "  'feels_like': 30.33,\n",
       "  'temp_min': 28.41,\n",
       "  'temp_max': 28.92,\n",
       "  'pressure': 1008,\n",
       "  'humidity': 62,\n",
       "  'sea_level': 1008,\n",
       "  'grnd_level': 1005},\n",
       " 'visibility': 10000,\n",
       " 'wind': {'speed': 7.2, 'deg': 90},\n",
       " 'clouds': {'all': 20},\n",
       " 'dt': 1738219189,\n",
       " 'sys': {'type': 2,\n",
       "  'id': 2034633,\n",
       "  'country': 'TH',\n",
       "  'sunrise': 1738194391,\n",
       "  'sunset': 1738236788},\n",
       " 'timezone': 25200,\n",
       " 'id': 1153035,\n",
       " 'name': 'Kathu',\n",
       " 'cod': 200}"
      ]
     },
     "execution_count": 26,
     "metadata": {},
     "output_type": "execute_result"
    }
   ],
   "source": [
    "weather_json"
   ]
  },
  {
   "cell_type": "code",
   "execution_count": null,
   "id": "d8395abc-88e5-4daa-80e1-777e56eea987",
   "metadata": {},
   "outputs": [],
   "source": []
  }
 ],
 "metadata": {
  "kernelspec": {
   "display_name": "Python 3 (ipykernel)",
   "language": "python",
   "name": "python3"
  },
  "language_info": {
   "codemirror_mode": {
    "name": "ipython",
    "version": 3
   },
   "file_extension": ".py",
   "mimetype": "text/x-python",
   "name": "python",
   "nbconvert_exporter": "python",
   "pygments_lexer": "ipython3",
   "version": "3.10.16"
  }
 },
 "nbformat": 4,
 "nbformat_minor": 5
}
