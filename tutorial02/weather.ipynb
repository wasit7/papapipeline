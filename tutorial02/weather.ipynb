{
 "cells": [
  {
   "cell_type": "code",
   "execution_count": 19,
   "id": "f7730e78-22e9-4f7d-9893-0ff071a8a33f",
   "metadata": {},
   "outputs": [],
   "source": [
    "# pip install pandas"
   ]
  },
  {
   "cell_type": "code",
   "execution_count": 14,
   "id": "101a81d7-5ae0-4f2c-8849-383067304066",
   "metadata": {},
   "outputs": [],
   "source": [
    "import os\n",
    "import time\n",
    "import datetime\n",
    "import requests\n",
    "import pandas as pd"
   ]
  },
  {
   "cell_type": "code",
   "execution_count": 15,
   "id": "baf85a34-24a0-4add-97dd-5f38c6bc9951",
   "metadata": {},
   "outputs": [],
   "source": [
    "API_KEY = 'c3c394ef76cc381e330ecdf90d766a10'\n",
    "WEATHER_ENDPOINT = \"https://api.openweathermap.org/data/2.5/weather\"\n",
    "POLLUTION_ENDPOINT = \"http://api.openweathermap.org/data/2.5/air_pollution\""
   ]
  },
  {
   "cell_type": "code",
   "execution_count": 17,
   "id": "7b061789-dada-4e69-b985-d6dc7ce5123e",
   "metadata": {},
   "outputs": [],
   "source": [
    "provinces = [\n",
    "    {\"province\": \"Pathumthani\",    \"lat\": 14.013, \"lon\": 100.5305},\n",
    "    {\"province\": \"Bangkok\",        \"lat\": 13.756, \"lon\": 100.5018},\n",
    "    {\"province\": \"Chiang Mai\",     \"lat\": 18.788, \"lon\":  98.9853},\n",
    "    {\"province\": \"Phuket\",         \"lat\":  7.951, \"lon\":  98.3381}\n",
    "]"
   ]
  },
  {
   "cell_type": "code",
   "execution_count": 18,
   "id": "84c5b38a-de48-4faf-abc7-07a87392f912",
   "metadata": {},
   "outputs": [],
   "source": [
    "BASE_OUTPUT_DIR = \"output_weather\""
   ]
  },
  {
   "cell_type": "code",
   "execution_count": null,
   "id": "d663393c-c14b-4a75-964c-5d4d6fba8c0f",
   "metadata": {},
   "outputs": [],
   "source": []
  },
  {
   "cell_type": "code",
   "execution_count": 20,
   "id": "bcb48d05-9046-459b-b7b2-ed305b3b6779",
   "metadata": {},
   "outputs": [
    {
     "data": {
      "text/plain": [
       "<Response [200]>"
      ]
     },
     "execution_count": 20,
     "metadata": {},
     "output_type": "execute_result"
    }
   ],
   "source": [
    "params = {\n",
    "    \"lat\": 14.013,\n",
    "    \"lon\": 100.5305,\n",
    "    \"appid\": 'c3c394ef76cc381e330ecdf90d766a10',\n",
    "    \"units\": \"metric\"\n",
    "}\n",
    "response = requests.get('https://api.openweathermap.org/data/2.5/weather', params=params)\n",
    "response"
   ]
  },
  {
   "cell_type": "code",
   "execution_count": 22,
   "id": "046f5db1-fab0-4829-8d50-34d335f95e87",
   "metadata": {},
   "outputs": [
    {
     "data": {
      "text/plain": [
       "{'coord': {'lon': 100.5305, 'lat': 14.013},\n",
       " 'weather': [{'id': 802,\n",
       "   'main': 'Clouds',\n",
       "   'description': 'scattered clouds',\n",
       "   'icon': '03d'}],\n",
       " 'base': 'stations',\n",
       " 'main': {'temp': 36.17,\n",
       "  'feels_like': 43.17,\n",
       "  'temp_min': 36.17,\n",
       "  'temp_max': 36.17,\n",
       "  'pressure': 1006,\n",
       "  'humidity': 57,\n",
       "  'sea_level': 1006,\n",
       "  'grnd_level': 1004},\n",
       " 'visibility': 10000,\n",
       " 'wind': {'speed': 4.99, 'deg': 171, 'gust': 4.53},\n",
       " 'clouds': {'all': 34},\n",
       " 'dt': 1743055799,\n",
       " 'sys': {'type': 2,\n",
       "  'id': 2093772,\n",
       "  'country': 'TH',\n",
       "  'sunrise': 1743031033,\n",
       "  'sunset': 1743074951},\n",
       " 'timezone': 25200,\n",
       " 'id': 1607983,\n",
       " 'name': 'Pathum Thani',\n",
       " 'cod': 200}"
      ]
     },
     "execution_count": 22,
     "metadata": {},
     "output_type": "execute_result"
    }
   ],
   "source": [
    "response.json()"
   ]
  },
  {
   "cell_type": "code",
   "execution_count": 11,
   "id": "1b165d2b-6e3d-4fdc-93ac-57ffcee1b12a",
   "metadata": {},
   "outputs": [],
   "source": [
    "def fetch_current_weather(lat, lon):\n",
    "    \"\"\"Fetch current weather data from OpenWeatherMap.\"\"\"\n",
    "    params = {\n",
    "        \"lat\": lat,\n",
    "        \"lon\": lon,\n",
    "        \"appid\": API_KEY,\n",
    "        \"units\": \"metric\"\n",
    "    }\n",
    "    response = requests.get(WEATHER_ENDPOINT, params=params)\n",
    "    response.raise_for_status()\n",
    "    return response.json()\n",
    "\n",
    "def fetch_current_pollution(lat, lon):\n",
    "    \"\"\"Fetch current air pollution data from OpenWeatherMap.\"\"\"\n",
    "    params = {\n",
    "        \"lat\": lat,\n",
    "        \"lon\": lon,\n",
    "        \"appid\": API_KEY\n",
    "    }\n",
    "    response = requests.get(POLLUTION_ENDPOINT, params=params)\n",
    "    response.raise_for_status()\n",
    "    return response.json()\n",
    "\n",
    "for loc in provinces:\n",
    "    d = fetch_current_weather(loc[\"lat\"], loc[\"lon\"])"
   ]
  },
  {
   "cell_type": "code",
   "execution_count": 12,
   "id": "2a99e83b-4e52-414a-a58f-053e66ce0bbf",
   "metadata": {},
   "outputs": [
    {
     "data": {
      "text/plain": [
       "{'coord': {'lon': 98.3381, 'lat': 7.9519},\n",
       " 'weather': [{'id': 801,\n",
       "   'main': 'Clouds',\n",
       "   'description': 'few clouds',\n",
       "   'icon': '02d'}],\n",
       " 'base': 'stations',\n",
       " 'main': {'temp': 32.1,\n",
       "  'feels_like': 37.62,\n",
       "  'temp_min': 32.1,\n",
       "  'temp_max': 32.1,\n",
       "  'pressure': 1007,\n",
       "  'humidity': 61,\n",
       "  'sea_level': 1007,\n",
       "  'grnd_level': 1004},\n",
       " 'visibility': 10000,\n",
       " 'wind': {'speed': 4.63, 'deg': 290},\n",
       " 'clouds': {'all': 20},\n",
       " 'dt': 1743055441,\n",
       " 'sys': {'type': 2,\n",
       "  'id': 2034633,\n",
       "  'country': 'TH',\n",
       "  'sunrise': 1743031631,\n",
       "  'sunset': 1743075406},\n",
       " 'timezone': 25200,\n",
       " 'id': 1153035,\n",
       " 'name': 'Kathu',\n",
       " 'cod': 200}"
      ]
     },
     "execution_count": 12,
     "metadata": {},
     "output_type": "execute_result"
    }
   ],
   "source": [
    "d"
   ]
  },
  {
   "cell_type": "code",
   "execution_count": 13,
   "id": "d8395abc-88e5-4daa-80e1-777e56eea987",
   "metadata": {},
   "outputs": [
    {
     "data": {
      "text/plain": [
       "{'coord': {'lon': 98.3381, 'lat': 7.9519},\n",
       " 'list': [{'main': {'aqi': 2},\n",
       "   'components': {'co': 427.25,\n",
       "    'no': 0.02,\n",
       "    'no2': 0.2,\n",
       "    'o3': 72.96,\n",
       "    'so2': 0.1,\n",
       "    'pm2_5': 18.84,\n",
       "    'pm10': 24.67,\n",
       "    'nh3': 0.55},\n",
       "   'dt': 1743055443}]}"
      ]
     },
     "execution_count": 13,
     "metadata": {},
     "output_type": "execute_result"
    }
   ],
   "source": [
    "for loc in provinces:\n",
    "    d = fetch_current_pollution(loc[\"lat\"], loc[\"lon\"])\n",
    "d"
   ]
  },
  {
   "cell_type": "code",
   "execution_count": null,
   "id": "618ce439-1ac3-40a7-a964-9dfc8b21df1c",
   "metadata": {},
   "outputs": [],
   "source": []
  }
 ],
 "metadata": {
  "kernelspec": {
   "display_name": "Python 3 (ipykernel)",
   "language": "python",
   "name": "python3"
  },
  "language_info": {
   "codemirror_mode": {
    "name": "ipython",
    "version": 3
   },
   "file_extension": ".py",
   "mimetype": "text/x-python",
   "name": "python",
   "nbconvert_exporter": "python",
   "pygments_lexer": "ipython3",
   "version": "3.10.16"
  }
 },
 "nbformat": 4,
 "nbformat_minor": 5
}
