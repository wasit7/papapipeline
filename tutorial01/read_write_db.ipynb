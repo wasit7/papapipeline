{
 "cells": [
  {
   "cell_type": "code",
   "execution_count": 1,
   "id": "da417e3e-f2b5-4273-a635-94572e0e9783",
   "metadata": {},
   "outputs": [],
   "source": [
    "# pip install sqlalchemy psycopg2-binary pandas"
   ]
  },
  {
   "cell_type": "code",
   "execution_count": 4,
   "id": "a877b712-4f18-423d-b963-04ac0d59a04a",
   "metadata": {},
   "outputs": [
    {
     "name": "stdout",
     "output_type": "stream",
     "text": [
      "Data saved to PostgreSQL table: your_table\n"
     ]
    }
   ],
   "source": [
    "import pandas as pd\n",
    "from sqlalchemy import create_engine\n",
    "\n",
    "# Use the Postgres service name (\"postgres\") for 'host' \n",
    "# in Docker's default network so the Jupyter container can resolve it.\n",
    "HOST = 'postgres'  \n",
    "USERNAME = 'postgres'\n",
    "PASSWORD = 'postgres-password'\n",
    "POSTGRES_PORT = 5432\n",
    "DB_NAME_POSTGRES = 'postgres'\n",
    "\n",
    "def connect_postgres():\n",
    "    \"\"\"\n",
    "    Creates a SQLAlchemy engine for Postgres.\n",
    "    \"\"\"\n",
    "    postgres_url = f'postgresql://{USERNAME}:{PASSWORD}@{HOST}:{POSTGRES_PORT}/{DB_NAME_POSTGRES}'\n",
    "    return create_engine(postgres_url)\n",
    "\n",
    "def save_to_postgres(df, table_name):\n",
    "    \"\"\"\n",
    "    Saves a pandas DataFrame to a specified table in Postgres.\n",
    "    If the table already exists, it will be replaced.\n",
    "    \"\"\"\n",
    "    engine = connect_postgres()\n",
    "    df.to_sql(table_name, engine, if_exists='replace', index=False)\n",
    "    print(f\"Data saved to PostgreSQL table: {table_name}\")\n",
    "\n",
    "# 1. Create a simple dataset\n",
    "your_df = pd.DataFrame({\n",
    "    'id': [1, 2, 3],\n",
    "    'name': ['Alice', 'Bob', 'Charlie']\n",
    "})\n",
    "\n",
    "# 2. Write DataFrame to Postgres\n",
    "save_to_postgres(your_df, 'your_table')\n"
   ]
  },
  {
   "cell_type": "code",
   "execution_count": 5,
   "id": "24098461-ead7-4c3c-b308-c204c075c57d",
   "metadata": {},
   "outputs": [
    {
     "data": {
      "text/html": [
       "<div>\n",
       "<style scoped>\n",
       "    .dataframe tbody tr th:only-of-type {\n",
       "        vertical-align: middle;\n",
       "    }\n",
       "\n",
       "    .dataframe tbody tr th {\n",
       "        vertical-align: top;\n",
       "    }\n",
       "\n",
       "    .dataframe thead th {\n",
       "        text-align: right;\n",
       "    }\n",
       "</style>\n",
       "<table border=\"1\" class=\"dataframe\">\n",
       "  <thead>\n",
       "    <tr style=\"text-align: right;\">\n",
       "      <th></th>\n",
       "      <th>id</th>\n",
       "      <th>name</th>\n",
       "    </tr>\n",
       "  </thead>\n",
       "  <tbody>\n",
       "    <tr>\n",
       "      <th>0</th>\n",
       "      <td>1</td>\n",
       "      <td>Alice</td>\n",
       "    </tr>\n",
       "    <tr>\n",
       "      <th>1</th>\n",
       "      <td>2</td>\n",
       "      <td>Bob</td>\n",
       "    </tr>\n",
       "    <tr>\n",
       "      <th>2</th>\n",
       "      <td>3</td>\n",
       "      <td>Charlie</td>\n",
       "    </tr>\n",
       "  </tbody>\n",
       "</table>\n",
       "</div>"
      ],
      "text/plain": [
       "   id     name\n",
       "0   1    Alice\n",
       "1   2      Bob\n",
       "2   3  Charlie"
      ]
     },
     "execution_count": 5,
     "metadata": {},
     "output_type": "execute_result"
    }
   ],
   "source": [
    "sql=\"\"\"\n",
    "select * from your_table\n",
    "\"\"\"\n",
    "pd.read_sql_query(\n",
    "    sql=sql,\n",
    "    con= connect_postgres())"
   ]
  },
  {
   "cell_type": "code",
   "execution_count": null,
   "id": "4c8b9a45-714a-43f6-bf6c-f56a32402304",
   "metadata": {},
   "outputs": [],
   "source": []
  }
 ],
 "metadata": {
  "kernelspec": {
   "display_name": "Python 3 (ipykernel)",
   "language": "python",
   "name": "python3"
  },
  "language_info": {
   "codemirror_mode": {
    "name": "ipython",
    "version": 3
   },
   "file_extension": ".py",
   "mimetype": "text/x-python",
   "name": "python",
   "nbconvert_exporter": "python",
   "pygments_lexer": "ipython3",
   "version": "3.11.6"
  }
 },
 "nbformat": 4,
 "nbformat_minor": 5
}
